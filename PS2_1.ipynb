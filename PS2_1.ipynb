{
  "cells": [
    {
      "cell_type": "markdown",
      "metadata": {
        "id": "view-in-github",
        "colab_type": "text"
      },
      "source": [
        "<a href=\"https://colab.research.google.com/github/Hgherzog/TTIC-DeepLearning/blob/main/PS2_1.ipynb\" target=\"_parent\"><img src=\"https://colab.research.google.com/assets/colab-badge.svg\" alt=\"Open In Colab\"/></a>"
      ]
    },
    {
      "cell_type": "markdown",
      "metadata": {
        "id": "k3PKsz-1SH1U"
      },
      "source": [
        "# Instructions\n",
        "\n",
        "For this assignment you will use PyTorch instead of EDF to implement and train neural networks. The experiments in this assignment will take a long time to run without a GPU, but you can run the notebook remotely on Google Colab and have access to GPUs for free -- in this case you don't have to worry about installing PyTorch as it is available by default in Google Colab's environment.\n",
        "\n",
        "In case you will be running the experiments in your own machine, you should install PyTorch -- there are multiple tutorials online and it is especially easy if you're using Anaconda. Check https://pytorch.org/tutorials/ for some PyTorch tutorials -- this assignment assumes that you know the basics like defining models with multiple modules and coding up functions to train models with PyTorch optimizers. To \n",
        "\n",
        "To use Google Colab, you should access https://colab.research.google.com/ and upload this notebook to your workspace. To use a GPU, go to Edit -> Notebook settings and select GPU as the accelerator.\n",
        "\n",
        "Unlike previous assignments, in this one you will have to do some writing instead of just coding. Try to keep your answers short and precise, and you are encouraged to write equations if needed (you can do that using markdown cells). You can also use code as part of your answers (like plotting and printing, etc). Blue text indicates questions or things that you should discuss/comment, and there will red \"ANSWER (BEGIN)\" and \"ANSWER (END)\" markdown cells to indicate that you should add cells with your writeup between these two. **Make sure not to redefine variables or functions in your writeup, which can change the behavior of the next cells.**\n",
        "\n",
        "Finally, you might have to do minor changes to the provided code due to differences in python/pytorch versions. You can post on piazza if there's a major, non-trivial change that you had to do (so other students can be aware of it and how to proceed), but for minor changes you should just apply them and keep working on the assignment."
      ]
    },
    {
      "cell_type": "code",
      "execution_count": null,
      "metadata": {
        "id": "FD0LkiPhSH1Z"
      },
      "outputs": [],
      "source": [
        "import torch, math, copy\n",
        "import numpy as np\n",
        "from torchvision import datasets, transforms\n",
        "import torch.nn as nn\n",
        "import torch.nn.init as init\n",
        "import torch.nn.functional as F"
      ]
    },
    {
      "cell_type": "markdown",
      "metadata": {
        "id": "l0KZgSc2SH1o"
      },
      "source": [
        "# From Shallow to Deep Neural Networks\n",
        "\n",
        "The main goal of this assignment is to develop a better understanding of how the depth of a network interacts with its trainability and performance.\n",
        "\n",
        "In the previous assignment you likely observed difficulties in training sigmoid and ReLU networks with over ~8 layers, which is typically associated with 'vanishing' or 'exploding' gradients. As you will see, some of the biggest achievements in deep learning have been the development of techniques that enable deeper networks to be successfully trained, and without them deep networks are notoriously difficult to train successfully.\n",
        "\n",
        "You will be working with the MNIST dataset, which will be downloaded and loaded in the cell below."
      ]
    },
    {
      "cell_type": "code",
      "execution_count": null,
      "metadata": {
        "colab": {
          "base_uri": "https://localhost:8080/",
          "height": 417,
          "referenced_widgets": [
            "d43cd9ed0db54a0ea09cf0913c39fcc9",
            "d0524cca62f74d9a8e02885cee8ed1f5",
            "89bb7bbeb64f4a4ca78fd9ac2097b206",
            "0440f3cf919c438d84b1e22675c32154",
            "55df15980f844a8cb89f8a59a720b6cd",
            "c244451232c64f49a8aef05cc5064461",
            "7edd9b17ca814ba180e46ffd4ccaa606",
            "41fd2902b403451aa7c95bcd0218fadf",
            "eec1fee3d3ba41c7b65735b6b1cac1fb",
            "5968bd5d9eef4725adc542335f8e769b",
            "85fbcd3fdf1348ecbf919e165f743553",
            "38bfbfb1c8e9436eb1c01b8b39652844",
            "378cf0d1cf9e472790a4256710cc945e",
            "9a29f999c99641afb42a882be872ca50",
            "c80bfa69dca74b59a946dd91e2c495bf",
            "235bb3e0536042449074549dbb473e7c",
            "55a2ac4620a64242a40afef7cb4c936d",
            "19a356c32b1b4f75b9343c56273492ce",
            "f3c36f21a63041c7955555a18e764765",
            "98cb8e0a1ca54e4e9ec8b6903107d463",
            "2afc9d74de2e4829a86afcc6104db7f0",
            "d5ba7a60efe24c3088e5ee33c79f53b4",
            "6d3176ada3294078b24c456daf77bc56",
            "e4bd3b77bab44d4aa06abbfaf107a03a",
            "87f6875d5d804db68524b19b3a074028",
            "e4618b192ef344bc873b9662e73fef06",
            "ae389f11eca84ab4a24ff79a089da52a",
            "4df4bb7462224911bc5a99f6cb3ce191",
            "bd69c20c7a6d444ca53e457f4678f003",
            "0eb24715f0a749838b32889ff0127599",
            "b602562acd104b67a58151dfc8643fca",
            "bae6e8fc221f4c44af8f9a26b8b6f9bd",
            "4fc322303e18442daa0cbbc8e5336909",
            "1ba3925758814423957696eddd1b3aa9",
            "527fd51bb8424f6f89f788281913f6ac",
            "78c6ef853c8a47d1bbef518046a2de2a",
            "dcb0b6404b674edaa110a9c7d1b8cab6",
            "467dced5d6f44d1ab550563657ffa82f",
            "3db229d160824554b7920246ef945ac3",
            "7d206b094ee24469bf7e76c46d2502f7",
            "0fc5f64c3bf74064bf8523db09050d9b",
            "4cf5c7c840c64cdd9c9eb4dd8ce3f425",
            "f994b8c06cf846d18e3a040b01728e2d",
            "bf74124717364d3984aae72c23812509"
          ]
        },
        "id": "b_qmffSoSH1o",
        "outputId": "ca1fc051-432c-4f11-b0d1-3bfc37db19c6"
      },
      "outputs": [
        {
          "name": "stdout",
          "output_type": "stream",
          "text": [
            "Downloading http://yann.lecun.com/exdb/mnist/train-images-idx3-ubyte.gz\n",
            "Downloading http://yann.lecun.com/exdb/mnist/train-images-idx3-ubyte.gz to data/MNIST/raw/train-images-idx3-ubyte.gz\n"
          ]
        },
        {
          "data": {
            "application/vnd.jupyter.widget-view+json": {
              "model_id": "d43cd9ed0db54a0ea09cf0913c39fcc9",
              "version_major": 2,
              "version_minor": 0
            },
            "text/plain": [
              "  0%|          | 0/9912422 [00:00<?, ?it/s]"
            ]
          },
          "metadata": {},
          "output_type": "display_data"
        },
        {
          "name": "stdout",
          "output_type": "stream",
          "text": [
            "Extracting data/MNIST/raw/train-images-idx3-ubyte.gz to data/MNIST/raw\n",
            "\n",
            "Downloading http://yann.lecun.com/exdb/mnist/train-labels-idx1-ubyte.gz\n",
            "Downloading http://yann.lecun.com/exdb/mnist/train-labels-idx1-ubyte.gz to data/MNIST/raw/train-labels-idx1-ubyte.gz\n"
          ]
        },
        {
          "data": {
            "application/vnd.jupyter.widget-view+json": {
              "model_id": "38bfbfb1c8e9436eb1c01b8b39652844",
              "version_major": 2,
              "version_minor": 0
            },
            "text/plain": [
              "  0%|          | 0/28881 [00:00<?, ?it/s]"
            ]
          },
          "metadata": {},
          "output_type": "display_data"
        },
        {
          "name": "stdout",
          "output_type": "stream",
          "text": [
            "Extracting data/MNIST/raw/train-labels-idx1-ubyte.gz to data/MNIST/raw\n",
            "\n",
            "Downloading http://yann.lecun.com/exdb/mnist/t10k-images-idx3-ubyte.gz\n",
            "Downloading http://yann.lecun.com/exdb/mnist/t10k-images-idx3-ubyte.gz to data/MNIST/raw/t10k-images-idx3-ubyte.gz\n"
          ]
        },
        {
          "data": {
            "application/vnd.jupyter.widget-view+json": {
              "model_id": "6d3176ada3294078b24c456daf77bc56",
              "version_major": 2,
              "version_minor": 0
            },
            "text/plain": [
              "  0%|          | 0/1648877 [00:00<?, ?it/s]"
            ]
          },
          "metadata": {},
          "output_type": "display_data"
        },
        {
          "name": "stdout",
          "output_type": "stream",
          "text": [
            "Extracting data/MNIST/raw/t10k-images-idx3-ubyte.gz to data/MNIST/raw\n",
            "\n",
            "Downloading http://yann.lecun.com/exdb/mnist/t10k-labels-idx1-ubyte.gz\n",
            "Downloading http://yann.lecun.com/exdb/mnist/t10k-labels-idx1-ubyte.gz to data/MNIST/raw/t10k-labels-idx1-ubyte.gz\n"
          ]
        },
        {
          "data": {
            "application/vnd.jupyter.widget-view+json": {
              "model_id": "1ba3925758814423957696eddd1b3aa9",
              "version_major": 2,
              "version_minor": 0
            },
            "text/plain": [
              "  0%|          | 0/4542 [00:00<?, ?it/s]"
            ]
          },
          "metadata": {},
          "output_type": "display_data"
        },
        {
          "name": "stdout",
          "output_type": "stream",
          "text": [
            "Extracting data/MNIST/raw/t10k-labels-idx1-ubyte.gz to data/MNIST/raw\n",
            "\n"
          ]
        }
      ],
      "source": [
        "transform = transforms.Compose([transforms.ToTensor(), transforms.Normalize((0.1307,), (0.3081,))])\n",
        "\n",
        "train_dataset = datasets.MNIST(\"data\", train=True, download=True, transform=transform)\n",
        "train_loader = torch.utils.data.DataLoader(train_dataset, batch_size=256, shuffle=True)\n",
        "\n",
        "test_dataset = datasets.MNIST(\"data\", train=False, download=True, transform=transform)\n",
        "test_loader = torch.utils.data.DataLoader(test_dataset, batch_size=256, shuffle=False)"
      ]
    },
    {
      "cell_type": "markdown",
      "metadata": {
        "id": "iIviUo83SH1o"
      },
      "source": [
        "Fill the missing code below. In both train_epoch and test, total_correct should be the total number of correctly classified samples, while total_samples should be the total number of samples that have been iterated over."
      ]
    },
    {
      "cell_type": "code",
      "execution_count": null,
      "metadata": {
        "id": "MIHugdT9SH1o"
      },
      "outputs": [],
      "source": [
        "def train(epochs, model, criterion, optimizer, train_loader, test_loader):\n",
        "    for epoch in range(epochs):\n",
        "        train_err = train_epoch(model, criterion, optimizer, train_loader)\n",
        "        test_err = test(model, test_loader)\n",
        "        print('Epoch {:03d}/{:03d}, Train Error {:.2f}% || Test Error {:.2f}%'.format(epoch, epochs, train_err*100, test_err*100))\n",
        "    return train_err, test_err\n",
        "    \n",
        "def train_epoch(model, criterion, optimizer, loader):\n",
        "    total_correct = 0.\n",
        "    total_samples = 0.\n",
        "    \n",
        "    for batch_idx, (data, target) in enumerate(loader):\n",
        "        if torch.cuda.is_available():\n",
        "            data, target = data.cuda(), target.cuda()\n",
        "        len_t = len(target)\n",
        "        # insert code to feed the data to the model and collect its output \n",
        "        #assume output is a probability distribution over labels\n",
        "        output = model(data)\n",
        "        # insert code to compute the loss from output and the true target\n",
        "        loss = criterion(output, target)\n",
        "\n",
        "        # insert code to update total_correct and total_samples\n",
        "        # total_correct: total number of correctly classified samples\n",
        "        # total_samples: total number of samples seen so far\n",
        "        for i in range(len_t):\n",
        "          \n",
        "          total_correct +=  1 if torch.argmax(output[i]) == target[i] else 0\n",
        "          total_samples += 1\n",
        "\n",
        "        optimizer.zero_grad()\n",
        "        loss.backward()\n",
        "        optimizer.step()\n",
        "\n",
        "    return 1 - total_correct/total_samples\n",
        "    \n",
        "def test(model, loader):\n",
        "    total_correct = 0.\n",
        "    total_samples = 0.\n",
        "    #.eval() turns off gradient computation and batch normalization etc duing traing\n",
        "    model.eval()\n",
        "    \n",
        "    #Makes sure the gradients aren't being kept during the testing process\n",
        "    with torch.no_grad():\n",
        "        for batch_idx, (data, target) in enumerate(loader):\n",
        "            if torch.cuda.is_available():\n",
        "              #.cuda() allows the gpu to be used for faster paralellized computation\n",
        "                data, target = data.cuda(), target.cuda()\n",
        "\n",
        "            # insert code to feed the data to the model and collect its output \n",
        "            output = model(data)\n",
        "\n",
        "            # insert code to update total_correct and total_samples\n",
        "            # total_correct: total number of correctly classified samples\n",
        "            # total_samples: total number of samples seen so far\n",
        "            for i, val in enumerate(target):\n",
        "              total_correct += 1 if torch.argmax(output[i]) == val else 0\n",
        "              total_samples += 1 \n",
        "\n",
        "    return 1 - total_correct/total_samples"
      ]
    },
    {
      "cell_type": "markdown",
      "metadata": {
        "id": "0cTYkX0GSH1p"
      },
      "source": [
        "### CNN with Tanh activations\n",
        "\n",
        "Next, you should implement a baseline model so you can check how increasing the number of layers can make a network considerably harder to train, given that no additional methods such as residual connections and normalization layers are adopted.\n",
        "\n",
        "Finish the implementation of CNNtanh below, carefully following the specifications:\n",
        "\n",
        "The model should have exactly 'k' many convolutional layers, followed by a linear (fully-connected) layer that actually outputs the logits for each of the 10 MNIST classes.\n",
        "\n",
        "The network should consist of 3 stages, each with k/3 many convolutional layers (you can assume k is divisible by 3). Each conv layer should have a 3x3 kernel, a stride of 1 and a padding of 1 pixel (such that the output of the convolution has the same height and width as its input).\n",
        "\n",
        "It should also have an average pooling layer at the end of each stage, with a 2x2 window (hence halving the spatial dimensions), and the number of channels should double from one stage to the other (starting with 4 in the first stage). Moreover, a Tanh activation should follow each convolution layer.\n",
        "\n",
        "When k=3, for example, the network should be:\n",
        "\n",
        "1. Stage 1 (1x28x28 input, 4x14x14 output):\n",
        "    1. Conv layer with 1 input channel and 4 output channels, 3x3 kernel, stride=padding=1\n",
        "    2. Tanh activation\n",
        "    3. Average Pool with 2x2 kernel and stride 2\n",
        "2. Stage 2 (4x14x14 input, 8x7x7 output):\n",
        "    1. Conv layer with 4 input channels and 8 output channels, 3x3 kernel, stride=padding=1\n",
        "    2. Tanh activation\n",
        "    3. Average Pool with 2x2 kernel and stride 2\n",
        "3. Stage 3 (8x7x7 input, 16x3x3 output):\n",
        "    1. Conv layer with 8 input channels and 16 output channels, 3x3 kernel, stride=padding=1\n",
        "    2. Tanh activation\n",
        "    3. Average Pool with 2x2 kernel and stride 2\n",
        "4. Fully-connected layer with 16 * 3 * 3=144 input dimension and 10 output dimension\n",
        "\n",
        "Note that the model should not have any activation after the fully-connected layer: the PyTorch loss module that will be adopted takes logits as input and not class probabilities.\n",
        "\n",
        "In contrast to the network exemplified above with k=3, when k=6 it should have two conv layers per stage instead of one (each one with a tanh activation following it).\n",
        "\n",
        "Lastly, do not change the code block with a for loop in the end of init: its purpose to randomly initialize the parameters of the conv layers by sampling from a Gaussian with zero mean and 0.05 deviation."
      ]
    },
    {
      "cell_type": "code",
      "execution_count": null,
      "metadata": {
        "id": "Xc9pl4t_SH1p"
      },
      "outputs": [],
      "source": [
        "class CNNtanh(nn.Module):\n",
        "    def __init__(self, k):\n",
        "        #super allows objects of class\n",
        "        super(CNNtanh, self).__init__()\n",
        "        if k % 3 != 0:\n",
        "          return ValueError(\"k not divisible by 3\")\n",
        "        # write code here to instantiate layers\n",
        "        # for example, self.conv = nn.Conv2d(1, 4, 3, 1, 1)\n",
        "        # creates a conv layer with 1 input channel, 4 output\n",
        "        # channels, a 3x3 kernel, and stride=padding=1\n",
        "        self.k = k\n",
        "        self.layperstage= k // 3\n",
        "        # Initialize module list\n",
        "        self.translayer = nn.ModuleList()\n",
        "        self.layer = nn.ModuleList()\n",
        "        input_c = 1\n",
        "        for i in range(3):\n",
        "          output_c = 4 * pow(2, i)\n",
        "          self.translayer.append(nn.Conv2d(input_c, output_c, 3 , 1, 1))\n",
        "          self.layer.append(nn.Conv2d(output_c, output_c, 3, 1, 1))\n",
        "          input_c=output_c\n",
        "        \n",
        "        self.act=nn.Tanh()\n",
        "        self.avgpool = nn.AvgPool2d(2,2)\n",
        "        self.flatten = nn.Flatten()\n",
        "        self.linear = nn.Linear(144, 10)\n",
        "                                     \n",
        "\n",
        "        for m in self.modules():\n",
        "            if isinstance(m, nn.Conv2d):\n",
        "                m.weight.data.normal_(0, 0.05)\n",
        "                m.bias.data.zero_()\n",
        "        \n",
        "    def forward(self, input):\n",
        "\n",
        "        # write code here to define how the output u is computed\n",
        "        # from the input and the model's layers\n",
        "        # for example, u = self.conv(input) defines u\n",
        "        # to be simply the output of self.conv given 'input'\n",
        "        u = input\n",
        "        for i in range(3):\n",
        "          for j in range(self.layperstage):\n",
        "            if j ==0:\n",
        "              u = self.translayer[i](u)\n",
        "            else:\n",
        "              u = self.layer[i](u)\n",
        "            u = self.act(u)\n",
        "          u = self.avgpool(u)\n",
        "        u = self.flatten(u)\n",
        "        u = self.linear(u)\n",
        "        return u"
      ]
    },
    {
      "cell_type": "markdown",
      "metadata": {
        "id": "rx_4tOu4uiFW"
      },
      "source": [
        "The line below just instantiates the PyTorch Cross Entropy loss, whose inputs should be logits: hence the reason that the CNN should not have an activation after last (feedforward) layer."
      ]
    },
    {
      "cell_type": "code",
      "execution_count": null,
      "metadata": {
        "id": "P4vxR4FOSH1p"
      },
      "outputs": [],
      "source": [
        "criterion = torch.nn.CrossEntropyLoss()"
      ]
    },
    {
      "cell_type": "markdown",
      "metadata": {
        "id": "jv54ar5_SH1p"
      },
      "source": [
        "Now, you should train CNNtanh with different values for k: your goal is to find the largest value for k such that the network achieves less than 20% error (either train or test) in 3 epochs. You should also choose an appropriate learning rate (but do not change the optimizer or the momentum settings!).\n",
        "\n",
        "Note that CNNs can easily achieve under 2% test error on MNIST, but we're choosing 20% as a threshold since you will be training each network for only 3 epochs.\n",
        "\n",
        "Remember to use values for k that are divisible by 3. When submitted, your notebook should have the training log of a network with two consecutive values for k (for example, 6 and 9) such that the network is 'trainable' with the smaller one but not 'trainable' with the larger one. It is fine for the training log to include runs with more than two values of k."
      ]
    },
    {
      "cell_type": "code",
      "execution_count": null,
      "metadata": {
        "colab": {
          "base_uri": "https://localhost:8080/"
        },
        "id": "LhQwwlUzSH1p",
        "outputId": "c43559ed-cfb5-49c4-ca4f-41bc37b11842"
      },
      "outputs": [
        {
          "name": "stdout",
          "output_type": "stream",
          "text": [
            "Training Tanh CNN with 9 layers\n",
            "Epoch 000/003, Train Error 89.14% || Test Error 88.65%\n",
            "Epoch 001/003, Train Error 45.37% || Test Error 4.73%\n",
            "Epoch 002/003, Train Error 3.73% || Test Error 2.84%\n",
            "Training Tanh CNN with 12 layers\n",
            "Epoch 000/003, Train Error 89.12% || Test Error 88.65%\n",
            "Epoch 001/003, Train Error 89.20% || Test Error 88.65%\n",
            "Epoch 002/003, Train Error 89.20% || Test Error 88.65%\n",
            "Training Tanh CNN with 15 layers\n",
            "Epoch 000/003, Train Error 89.28% || Test Error 89.72%\n",
            "Epoch 001/003, Train Error 89.18% || Test Error 88.65%\n",
            "Epoch 002/003, Train Error 89.00% || Test Error 88.65%\n"
          ]
        }
      ],
      "source": [
        "k_vals = [9, 12, 15]\n",
        "lr = 0.15\n",
        "for k in k_vals:\n",
        "  print(\"Training Tanh CNN with {} layers\".format(k))\n",
        "  model = CNNtanh(k).cuda()\n",
        "  optimizer = torch.optim.SGD(model.parameters(), lr=lr, momentum=0.9)\n",
        "  train_errs, test_errs = train(3, model, criterion, optimizer, train_loader, test_loader)"
      ]
    },
    {
      "cell_type": "markdown",
      "metadata": {
        "id": "1k8-1IeISH1q"
      },
      "source": [
        "### Better Initialization\n",
        "\n",
        "Next, we will change the initialization of the conv layers and see how it affects the trainability of deep networks. Instead of sampling from a Gaussian with a deviation of 0.05, you should sample from a Gaussian with a deviation $\\sigma = \\sqrt{\\frac{1}{k^2 \\cdot C_{out}}}$ or $\\sigma = \\sqrt{\\frac{1}{k^2 \\cdot C_{in}}}$, where $k$ is the kernel size ($k=3$ for 3x3 convolutions), $C_{in}$ is the number of input channels, and $C_{out}$ the number of output channels.\n",
        "\n",
        "The model below should be exactly like CNNtanh except for the standard deviation of the normal distribution used to initialize the conv layers.\n",
        "\n",
        "The paper 'Understanding the difficulty of training deep feedforward neural networks' by Glorot and Bengio provides some intuition behind such a choice for $\\sigma$."
      ]
    },
    {
      "cell_type": "code",
      "execution_count": null,
      "metadata": {
        "id": "mLCUVVAJfm25"
      },
      "outputs": [],
      "source": [
        "class CNNtanh_newinit(nn.Module):\n",
        "    def __init__(self, k):\n",
        "        super(CNNtanh_newinit, self).__init__()\n",
        "\n",
        "        # write code here to instantiate layers\n",
        "        # for example, self.conv = nn.Conv2d(1, 4, 3, 1, 1)\n",
        "        # creates a conv layer with 1 input channel, 4 output\n",
        "        # channels, a 3x3 kernel, and stride=padding=1\n",
        "        self.k = k\n",
        "        self.layperstage= k // 3\n",
        "        # Initialize module list\n",
        "        self.translayer = nn.ModuleList()\n",
        "        self.layer = nn.ModuleList()\n",
        "        input_c = 1\n",
        "        for i in range(3):\n",
        "          output_c = 4 * pow(2, i)\n",
        "          self.translayer.append(nn.Conv2d(input_c, output_c, 3 , 1, 1))\n",
        "          self.layer.append(nn.Conv2d(output_c, output_c, 3, 1, 1))\n",
        "          input_c=output_c\n",
        "        \n",
        "        self.act=nn.Tanh()\n",
        "        self.avgpool = nn.AvgPool2d(2,2)\n",
        "        self.flatten = nn.Flatten()\n",
        "        self.linear = nn.Linear(144, 10)\n",
        "                                     \n",
        "        for m in self.modules():\n",
        "            if isinstance(m, nn.Conv2d):\n",
        "                # insert code to compute sigma\n",
        "                sigma = math.sqrt(1 / m.in_channels * 9)\n",
        "                m.weight.data.normal_(0, sigma)\n",
        "                m.bias.data.zero_()\n",
        "        \n",
        "    def forward(self, input):\n",
        "\n",
        "        # write code here to define how the output u is computed\n",
        "        # from the input and the model's layers\n",
        "        # for example, u = self.conv(input) defines u\n",
        "        # to be simply the output of self.conv given 'input'\n",
        "        u = input\n",
        "        for i in range(3):\n",
        "          for j in range(self.layperstage):\n",
        "            if j ==0:\n",
        "              u = self.translayer[i](u)\n",
        "            else:\n",
        "              u = self.layer[i](u)\n",
        "            u = self.act(u)\n",
        "          u = self.avgpool(u)\n",
        "        u = self.flatten(u)\n",
        "        u = self.linear(u)\n",
        "        return u"
      ]
    },
    {
      "cell_type": "markdown",
      "metadata": {
        "id": "4_1LxL-Y0Q2A"
      },
      "source": [
        "Repeat the procedure of finding the maximum number of layers such that the network is still trainable, this time with CNNtanhinit."
      ]
    },
    {
      "cell_type": "code",
      "execution_count": null,
      "metadata": {
        "colab": {
          "background_save": true,
          "base_uri": "https://localhost:8080/"
        },
        "id": "wEGmH8CASH1q",
        "outputId": "72fa402a-83bb-493f-a284-39c57939988f"
      },
      "outputs": [
        {
          "name": "stdout",
          "output_type": "stream",
          "text": [
            "\n",
            "Training Tanh CNN + new init with 9 layers\n",
            "Epoch 000/003, Train Error 63.15% || Test Error 48.65%\n",
            "Epoch 001/003, Train Error 46.58% || Test Error 40.10%\n",
            "Epoch 002/003, Train Error 43.42% || Test Error 40.50%\n",
            "\n",
            "Training Tanh CNN + new init with 12 layers\n",
            "Epoch 000/003, Train Error 83.09% || Test Error 79.64%\n",
            "Epoch 001/003, Train Error 76.16% || Test Error 72.25%\n",
            "Epoch 002/003, Train Error 72.50% || Test Error 67.58%\n",
            "\n",
            "Training Tanh CNN + new init with 15 layers\n",
            "Epoch 000/003, Train Error 89.63% || Test Error 90.18%\n",
            "Epoch 001/003, Train Error 89.81% || Test Error 90.42%\n",
            "Epoch 002/003, Train Error 90.07% || Test Error 90.18%\n"
          ]
        }
      ],
      "source": [
        "k_vals = [9,12,15]\n",
        "lr = 1\n",
        "\n",
        "for k in k_vals:\n",
        "  print(\"\\nTraining Tanh CNN + new init with {} layers\".format(k))\n",
        "  model = CNNtanh_newinit(k).cuda()\n",
        "  optimizer = torch.optim.SGD(model.parameters(), lr=lr, momentum=0.9)\n",
        "  train_errs, test_errs = train(3, model, criterion, optimizer, train_loader, test_loader)"
      ]
    },
    {
      "cell_type": "markdown",
      "metadata": {
        "id": "VkVRwRkW0rkQ"
      },
      "source": [
        "### CNN with ELU activations\n",
        "\n",
        "In this section you should replace the Tanh activations of the previous network for Exponential Linear Units (ELUs). Complete CNNelu below, which should be exactly like CNNtanhinit except for ELU activations instead of Tanh (ELUs are readily available in PyTorch, check its documentation for more details)."
      ]
    },
    {
      "cell_type": "code",
      "execution_count": null,
      "metadata": {
        "id": "xFyLrax5SH1t"
      },
      "outputs": [],
      "source": [
        "class CNNelu(nn.Module):\n",
        "    def __init__(self, k):\n",
        "        super(CNNelu, self).__init__()\n",
        "\n",
        "        # write code here to instantiate layers\n",
        "        # for example, self.conv = nn.Conv2d(1, 4, 3, 1, 1)\n",
        "        # creates a conv layer with 1 input channel, 4 output\n",
        "        # channels, a 3x3 kernel, and stride=padding=1\n",
        "        self.k = k\n",
        "        self.layperstage= k // 3\n",
        "        # Initialize module list\n",
        "        self.translayer = nn.ModuleList()\n",
        "        self.layer = nn.ModuleList()\n",
        "        input_c = 1\n",
        "        for i in range(3):\n",
        "          output_c = 4 * pow(2, i)\n",
        "          self.translayer.append(nn.Conv2d(input_c, output_c, 3 , 1, 1))\n",
        "          self.layer.append(nn.Conv2d(output_c, output_c, 3, 1, 1))\n",
        "          input_c=output_c\n",
        "        \n",
        "        self.act=nn.ELU()\n",
        "        self.avgpool = nn.AvgPool2d(2,2)\n",
        "        self.flatten = nn.Flatten()\n",
        "        self.linear = nn.Linear(144, 10)\n",
        "        for m in self.modules():\n",
        "            if isinstance(m, nn.Conv2d):\n",
        "                # insert code to compute sigma\n",
        "                sigma = math.sqrt(1 / m.in_channels * 9)\n",
        "                m.weight.data.normal_(0, sigma)\n",
        "                m.bias.data.zero_()\n",
        "        \n",
        "    def forward(self, input):\n",
        "        u = input\n",
        "        for i in range(3):\n",
        "          for j in range(self.layperstage):\n",
        "            if j ==0:\n",
        "              u = self.translayer[i](u)\n",
        "            else:\n",
        "              u = self.layer[i](u)\n",
        "            u = self.act(u)\n",
        "          u = self.avgpool(u)\n",
        "        u = self.flatten(u)\n",
        "        u = self.linear(u)\n",
        "        # write code here to define how the output u is computed\n",
        "        # from the input and the model's layers\n",
        "        # for example, u = self.conv(input) defines u\n",
        "        # to be simply the output of self.conv given 'input'\n",
        "\n",
        "        return u"
      ]
    },
    {
      "cell_type": "markdown",
      "metadata": {
        "id": "f2toBBTt1ZU5"
      },
      "source": [
        "Repeat the procedure of finding the maximum number of layers such that the network is still trainable, this time with CNNelu."
      ]
    },
    {
      "cell_type": "code",
      "execution_count": null,
      "metadata": {
        "colab": {
          "base_uri": "https://localhost:8080/"
        },
        "id": "AmvJJuH73jgj",
        "outputId": "18d7b234-ac37-481e-e95f-f343b73e8fd3"
      },
      "outputs": [
        {
          "name": "stdout",
          "output_type": "stream",
          "text": [
            "\n",
            "Training ELU CNN, with 3 layers\n",
            "Epoch 000/003, Train Error 29.61% || Test Error 16.40%\n",
            "Epoch 001/003, Train Error 14.94% || Test Error 13.35%\n",
            "Epoch 002/003, Train Error 12.91% || Test Error 12.00%\n",
            "\n",
            "Training ELU CNN, with 6 layers\n",
            "Epoch 000/003, Train Error 90.25% || Test Error 90.18%\n",
            "Epoch 001/003, Train Error 90.26% || Test Error 90.18%\n",
            "Epoch 002/003, Train Error 90.26% || Test Error 90.18%\n",
            "\n",
            "Training ELU CNN, with 9 layers\n",
            "Epoch 000/003, Train Error 90.15% || Test Error 90.20%\n",
            "Epoch 001/003, Train Error 90.13% || Test Error 90.20%\n",
            "Epoch 002/003, Train Error 90.13% || Test Error 90.20%\n"
          ]
        }
      ],
      "source": [
        "k_vals = [3,6,9]\n",
        "lr = .0001\n",
        "\n",
        "for k in k_vals:\n",
        "  print(\"\\nTraining ELU CNN, with {} layers\".format(k))\n",
        "  model = CNNelu(k).cuda()\n",
        "  optimizer = torch.optim.SGD(model.parameters(), lr=lr, momentum=0.9)\n",
        "  train_errs, test_errs = train(3, model, criterion, optimizer, train_loader, test_loader)"
      ]
    },
    {
      "cell_type": "markdown",
      "metadata": {
        "id": "EjhF18tS1hVw"
      },
      "source": [
        "### CNN with Batch Normalization\n",
        "\n",
        "Next, you will check how batch normalization can make deep networks easier to train. Implement the network below, which should be exactly like CNNelu except for additional BatchNorm2d layers after each convolution (before the ELU activation).\n",
        "\n",
        "Note that BatchNorm2d modules require the number of channels as argument -- see the PyTorch documentation for more details."
      ]
    },
    {
      "cell_type": "code",
      "execution_count": null,
      "metadata": {
        "id": "AHqz0bqbDKEo"
      },
      "outputs": [],
      "source": [
        "class CNNeluBN(nn.Module):\n",
        "    def __init__(self, k):\n",
        "        super(CNNeluBN, self).__init__()\n",
        "\n",
        "        # write code here to instantiate layers\n",
        "        # for example, self.conv = nn.Conv2d(1, 4, 3, 1, 1)\n",
        "        # creates a conv layer with 1 input channel, 4 output\n",
        "        # channels, a 3x3 kernel, and stride=padding=1\n",
        "        self.k = k\n",
        "        self.layperstage= k // 3\n",
        "        # Initialize module list\n",
        "        self.translayer = nn.ModuleList()\n",
        "        self.layer = nn.ModuleList()\n",
        "        self.batchnorm = nn.ModuleList()\n",
        "        input_c = 1\n",
        "        for i in range(3):\n",
        "          output_c = 4 * pow(2, i)\n",
        "          self.translayer.append(nn.Conv2d(input_c, output_c, 3 , 1, 1))\n",
        "          self.layer.append(nn.Conv2d(output_c, output_c, 3, 1, 1))\n",
        "          self.batchnorm.append(nn.BatchNorm2d(output_c))\n",
        "          input_c=output_c\n",
        "        \n",
        "        self.act=nn.ELU()\n",
        "        self.avgpool = nn.AvgPool2d(2,2)\n",
        "        self.flatten = nn.Flatten()\n",
        "        self.linear = nn.Linear(144, 10)\n",
        "        for m in self.modules():\n",
        "            if isinstance(m, nn.Conv2d):\n",
        "                # insert code to compute sigma\n",
        "                sigma = math.sqrt(1 / m.in_channels * 9)\n",
        "                m.weight.data.normal_(0, sigma)\n",
        "                m.bias.data.zero_()\n",
        "        \n",
        "    def forward(self, input):\n",
        "        \n",
        "        # write code here to define how the output u is computed\n",
        "        # from the input and the model's layers\n",
        "        # for example, u = self.conv(input) defines u\n",
        "        # to be simply the output of self.conv given 'input'\n",
        "        u = input\n",
        "        for i in range(3):\n",
        "          for j in range(self.layperstage):\n",
        "            if j ==0:\n",
        "              u = self.translayer[i](u)\n",
        "            else:\n",
        "              u = self.layer[i](u)\n",
        "            u = self.batchnorm[i](u)\n",
        "            u = self.act(u)\n",
        "          u = self.avgpool(u)\n",
        "        u = self.flatten(u)\n",
        "        u = self.linear(u)\n",
        "        return u"
      ]
    },
    {
      "cell_type": "markdown",
      "metadata": {
        "id": "_WqDqDmG2eAo"
      },
      "source": [
        "Repeat the procedure of finding the maximum number of layers such that the network is still trainable, this time with CNNeluBN."
      ]
    },
    {
      "cell_type": "code",
      "execution_count": null,
      "metadata": {
        "colab": {
          "background_save": true,
          "base_uri": "https://localhost:8080/"
        },
        "id": "lTDiRg9kERsH",
        "outputId": "5b4953b9-3b76-408e-d233-43ee8142bbc8"
      },
      "outputs": [
        {
          "name": "stdout",
          "output_type": "stream",
          "text": [
            "\n",
            "Training ELU CNN + BN with 66 layers\n",
            "Epoch 000/003, Train Error 76.88% || Test Error 87.01%\n",
            "Epoch 001/003, Train Error 58.42% || Test Error 41.43%\n",
            "Epoch 002/003, Train Error 38.23% || Test Error 31.14%\n",
            "\n",
            "Training ELU CNN + BN with 63 layers\n",
            "Epoch 000/003, Train Error 73.54% || Test Error 85.37%\n",
            "Epoch 001/003, Train Error 45.25% || Test Error 32.91%\n",
            "Epoch 002/003, Train Error 25.95% || Test Error 23.06%\n"
          ]
        }
      ],
      "source": [
        "#I first tried all values div by 3 up to 60\n",
        "k_vals = [66, 63]\n",
        "lr = .01\n",
        "\n",
        "for k in k_vals:\n",
        "  print(\"\\nTraining ELU CNN + BN with {} layers\".format(k))\n",
        "  model = CNNeluBN(k).cuda()\n",
        "  optimizer = torch.optim.SGD(model.parameters(), lr=lr, momentum=0.9)\n",
        "  train_errs, test_errs = train(3, model, criterion, optimizer, train_loader, test_loader)"
      ]
    },
    {
      "cell_type": "markdown",
      "metadata": {
        "id": "0LOZfZtl2gcg"
      },
      "source": [
        "### Residual Networks\n",
        "\n",
        "Finally, you experiment adding residual connections to a CNN.\n",
        "\n",
        "To implement the model below, you should add a 'skip connection' to 'Conv->BatchNorm->ELU' blocks whenever the shape of the block's input and output are the same: this will be the case for every such block except for the first ones in each stage, as they double the number of channels.\n",
        "\n",
        "More specifically, you should change $u = ELU(BatchNorm(Conv(x)))$ to $u = ELU(BatchNorm(Conv(x))) + x$, where $x$ and $u$ denote the block's input and output, respectively.\n",
        "\n",
        "You should take your CNNeluBN implementation and add skip-connections as described above.\n",
        "\n",
        "Note that there are key differences between the resulting model and the actual ResNet proposed by He et al. in 'Deep Residual Learning for Image Recognition', for example the use of ELU activations instead of ReLU and the exact position of skip-connections."
      ]
    },
    {
      "cell_type": "code",
      "execution_count": null,
      "metadata": {
        "id": "wA6ItpH-GpK_"
      },
      "outputs": [],
      "source": [
        "class ResNet(nn.Module):\n",
        "    def __init__(self, k):\n",
        "        super(ResNet, self).__init__()\n",
        "\n",
        "        # write code here to instantiate layers\n",
        "        # for example, self.conv = nn.Conv2d(1, 4, 3, 1, 1)\n",
        "        # creates a conv layer with 1 input channel, 4 output\n",
        "        # channels, a 3x3 kernel, and stride=padding=1\n",
        "        self.k = k\n",
        "        self.layperstage= k // 3\n",
        "        # Initialize module list\n",
        "        self.translayer = nn.ModuleList()\n",
        "        self.layer = nn.ModuleList()\n",
        "        self.batchnorm = nn.ModuleList()\n",
        "        input_c = 1\n",
        "        for i in range(3):\n",
        "          output_c = 4 * pow(2, i)\n",
        "          self.translayer.append(nn.Conv2d(input_c, output_c, 3 , 1, 1))\n",
        "          self.layer.append(nn.Conv2d(output_c, output_c, 3, 1, 1))\n",
        "          self.batchnorm.append(nn.BatchNorm2d(output_c))\n",
        "          input_c=output_c\n",
        "        \n",
        "        self.act=nn.ELU()\n",
        "        self.avgpool = nn.AvgPool2d(2,2)\n",
        "        self.flatten = nn.Flatten()\n",
        "        self.linear = nn.Linear(144, 10)\n",
        "        for m in self.modules():\n",
        "            if isinstance(m, nn.Conv2d):\n",
        "                # insert code to compute sigma\n",
        "                sigma = math.sqrt(1 / m.in_channels * 9)\n",
        "                m.weight.data.normal_(0, sigma)\n",
        "                m.bias.data.zero_()\n",
        "\n",
        "        \n",
        "    def forward(self, input):\n",
        "        \n",
        "        # write code here to define how the output u is computed\n",
        "        # from the input and the model's layers\n",
        "        # for example, u = self.conv(input) defines u\n",
        "        # to be simply the output of self.conv given 'input'\n",
        "        u = input\n",
        "        for i in range(3):\n",
        "          for j in range(self.layperstage):\n",
        "            x = u\n",
        "            if j ==0:\n",
        "              u = self.translayer[i](u)\n",
        "              u = self.batchnorm[i](u)\n",
        "              u = self.act(u)\n",
        "            else:\n",
        "              u = self.layer[i](u)\n",
        "              u = self.batchnorm[i](u)\n",
        "              u = self.act(u) + x\n",
        "          u = self.avgpool(u)\n",
        "        u = self.flatten(u)\n",
        "        u = self.linear(u)\n",
        "        return u"
      ]
    },
    {
      "cell_type": "markdown",
      "metadata": {
        "id": "aWHYn08j5kqb"
      },
      "source": [
        "Repeat the procedure of finding the maximum number of layers such that the network is still trainable, this time with the 'ResNet' model."
      ]
    },
    {
      "cell_type": "code",
      "execution_count": null,
      "metadata": {
        "colab": {
          "base_uri": "https://localhost:8080/"
        },
        "id": "-UJLiaGzJv1j",
        "outputId": "98b3bcbf-2bd1-4406-a775-07ea57dcd2e6"
      },
      "outputs": [
        {
          "name": "stdout",
          "output_type": "stream",
          "text": [
            "\n",
            "Training ResNet with 30 layers\n",
            "Epoch 000/003, Train Error 13.42% || Test Error 89.90%\n",
            "Epoch 001/003, Train Error 90.01% || Test Error 90.20%\n",
            "Epoch 002/003, Train Error 90.13% || Test Error 90.20%\n",
            "\n",
            "Training ResNet with 27 layers\n",
            "Epoch 000/003, Train Error 11.86% || Test Error 88.65%\n",
            "Epoch 001/003, Train Error 89.38% || Test Error 89.68%\n",
            "Epoch 002/003, Train Error 70.90% || Test Error 13.94%\n",
            "\n",
            "Training ResNet with 24 layers\n",
            "Epoch 000/003, Train Error 12.40% || Test Error 88.26%\n",
            "Epoch 001/003, Train Error 9.97% || Test Error 4.55%\n",
            "Epoch 002/003, Train Error 4.62% || Test Error 3.98%\n"
          ]
        }
      ],
      "source": [
        "k_vals = [30, 27, 24]\n",
        "lr = .01\n",
        "\n",
        "for k in k_vals:\n",
        "  print(\"\\nTraining ResNet with {} layers\".format(k))\n",
        "  model = ResNet(k).cuda()\n",
        "  optimizer = torch.optim.SGD(model.parameters(), lr=lr, momentum=0.9)\n",
        "  train_errs, test_errs = train(3, model, criterion, optimizer, train_loader, test_loader)"
      ]
    },
    {
      "cell_type": "markdown",
      "metadata": {
        "id": "NdSKAR4U51pQ"
      },
      "source": [
        "**<font color='blue'>\n",
        "    Summarize your results and observations regarding the experiments above. What was the maximum number of layers for each of the five models such that training remained successful? Briefly discuss why you think each modification helped/harmed the trainability of deep models.\n",
        "</font>**\n",
        "\n",
        "**<font color='red'> --------------------------------------------------------------------- ANSWER (BEGIN) ---------------------------------------------------------------------\n",
        "</font>**"
      ]
    },
    {
      "cell_type": "markdown",
      "metadata": {
        "id": "Gx96Sut2S77Y"
      },
      "source": [
        "1. CNNTanh: \n",
        "The maximum number of layers that remained successful was 9 layers. This was the control for the experiment. \n",
        "\n",
        "2. CNN-gaussian init: I also could train it for 9 layers, and the initialization doesn't seem to have made much of a difference.\n",
        "3. CNNelu: I could only train it for 3 layers, I think that the presence of large negative values may have caused saturation.\n",
        "4. CNN-batch normalization: I was able to train the network for 63 layers, the increase in number of layers is because the batch normalization at every layer ensures that different features are at the same scale for every layer, which gives more meaningful gradients. \n",
        "5. ResNet: The max number of layers I trained it for was 27. The residual connection reduced the number of layers possible compared to 4. I think the reduced sucess is due to the fact that the residual connection passes an input that is not batch normalized with the rest of the features, which may cause that connection to have undue influence on that layer."
      ]
    },
    {
      "cell_type": "markdown",
      "metadata": {
        "id": "_UHHtGGk6YSd"
      },
      "source": [
        "**<font color='red'> ---------------------------------------------------------------------- ANSWER (END) ----------------------------------------------------------------------\n",
        "</font>**"
      ]
    },
    {
      "cell_type": "markdown",
      "metadata": {
        "id": "qHhjz1IT7rB4"
      },
      "source": [
        "### Interactions: Batch Norm and Initialization\n",
        "\n",
        "Intuitively, batch norm should make the model more robust to changes in the magnitude of the network's weights: informally, scaling up all the elements of a conv layer's filters by a factor of 10 would not affect the network's output as long as there is a batch norm layer following such convolution, as the normalization would undo the scaling.\n",
        "\n",
        "To check how this intuition translates to practical settings, you should change the original 'CNNtanh' model so that it incorporates batch norm layers (like you have done when modifying 'CNNelu' into 'CNNeluBN').\n",
        "\n",
        "The model below should adopt the naive initialization procedure of sampling from a Gaussian with a deviation of 0.05, not the more sophisticated one that you implemented previously"
      ]
    },
    {
      "cell_type": "code",
      "execution_count": null,
      "metadata": {
        "id": "8405idig8QGw"
      },
      "outputs": [],
      "source": [
        "class CNNtanhBN_oldinit(nn.Module):\n",
        "    def __init__(self, k):\n",
        "        super(CNNtanhBN_oldinit, self).__init__()\n",
        "\n",
        "        # write code here to instantiate layers\n",
        "        # for example, self.conv = nn.Conv2d(1, 4, 3, 1, 1)\n",
        "        # creates a conv layer with 1 input channel, 4 output\n",
        "        # channels, a 3x3 kernel, and stride=padding=1\n",
        "        self.k = k\n",
        "        self.layperstage= k // 3\n",
        "        # Initialize module list\n",
        "        self.translayer = nn.ModuleList()\n",
        "        self.layer = nn.ModuleList()\n",
        "        self.batchnorm = nn.ModuleList()\n",
        "        input_c = 1\n",
        "        for i in range(3):\n",
        "          output_c = 4 * pow(2, i)\n",
        "          self.translayer.append(nn.Conv2d(input_c, output_c, 3 , 1, 1))\n",
        "          self.layer.append(nn.Conv2d(output_c, output_c, 3, 1, 1))\n",
        "          self.batchnorm.append(nn.BatchNorm2d(output_c))\n",
        "          input_c=output_c\n",
        "        \n",
        "        self.act=nn.Tanh()\n",
        "        self.avgpool = nn.AvgPool2d(2,2)\n",
        "        self.flatten = nn.Flatten()\n",
        "        self.linear = nn.Linear(144, 10)\n",
        "        for m in self.modules():\n",
        "            if isinstance(m, nn.Conv2d):\n",
        "                m.weight.data.normal_(0, 0.05)\n",
        "                m.bias.data.zero_()\n",
        "        \n",
        "    def forward(self, input):\n",
        "\n",
        "        # write code here to define how the output u is computed\n",
        "        # from the input and the model's layers\n",
        "        # for example, u = self.conv(input) defines u\n",
        "        # to be simply the output of self.conv given 'input'\n",
        "        u = input\n",
        "        for i in range(3):\n",
        "          for j in range(self.layperstage):\n",
        "            if j ==0:\n",
        "              u = self.translayer[i](u)\n",
        "            else:\n",
        "              u = self.layer[i](u)\n",
        "            u = self.batchnorm[i](u)\n",
        "            u = self.act(u)\n",
        "          u = self.avgpool(u)\n",
        "        u = self.flatten(u)\n",
        "        u = self.linear(u)\n",
        "        return u"
      ]
    },
    {
      "cell_type": "markdown",
      "metadata": {
        "id": "bvZsUFsl-0-n"
      },
      "source": [
        "Repeat the procedure of finding the maximum number of layers such that the network is still trainable, this time with CNNtanhBN_oldinit."
      ]
    },
    {
      "cell_type": "code",
      "execution_count": null,
      "metadata": {
        "colab": {
          "base_uri": "https://localhost:8080/"
        },
        "id": "sYeWhIOpAnAp",
        "outputId": "44b14eef-c1d2-4ad7-c2f3-82608ddbbae5"
      },
      "outputs": [
        {
          "name": "stdout",
          "output_type": "stream",
          "text": [
            "\n",
            "Training Tanh CNN + BN + naive init with 54 layers\n",
            "Epoch 000/003, Train Error 65.35% || Test Error 72.55%\n",
            "Epoch 001/003, Train Error 38.38% || Test Error 23.91%\n",
            "Epoch 002/003, Train Error 21.75% || Test Error 20.52%\n",
            "\n",
            "Training Tanh CNN + BN + naive init with 51 layers\n",
            "Epoch 000/003, Train Error 47.47% || Test Error 87.09%\n",
            "Epoch 001/003, Train Error 89.01% || Test Error 88.65%\n",
            "Epoch 002/003, Train Error 89.37% || Test Error 88.65%\n",
            "\n",
            "Training Tanh CNN + BN + naive init with 48 layers\n",
            "Epoch 000/003, Train Error 49.13% || Test Error 41.64%\n",
            "Epoch 001/003, Train Error 23.17% || Test Error 14.26%\n",
            "Epoch 002/003, Train Error 15.33% || Test Error 14.14%\n"
          ]
        }
      ],
      "source": [
        "k_vals = [54, 51, 48]\n",
        "lr = 0.01\n",
        "\n",
        "for k in k_vals:\n",
        "  print(\"\\nTraining Tanh CNN + BN + naive init with {} layers\".format(k))\n",
        "  model = CNNtanhBN_oldinit(k).cuda()\n",
        "  optimizer = torch.optim.SGD(model.parameters(), lr=lr, momentum=0.9)\n",
        "  train_errs, test_errs = train(3, model, criterion, optimizer, train_loader, test_loader)"
      ]
    },
    {
      "cell_type": "markdown",
      "metadata": {
        "id": "n6m_C2V--8EI"
      },
      "source": [
        "**<font color='blue'>\n",
        "    Compare CNNtanh (model with naive initialization and no batch norm), CNNtanh_newinit (model with better initialization and no batch norm), and CNNtanhBN_oldinit (model with naive initialization and batch norm), in terms of how deep each could be while being trainable, and discuss your thoughts one how batch norm interacts with the way parameters are initialized.\n",
        "</font>**\n",
        "\n",
        "**<font color='red'> --------------------------------------------------------------------- ANSWER (BEGIN) ---------------------------------------------------------------------\n",
        "</font>**"
      ]
    },
    {
      "cell_type": "markdown",
      "metadata": {
        "id": "r2GA547PJWyz"
      },
      "source": [
        "The first two are able to train about 9 layers deep, while the batch normalized version is trainable up to around 48 layer deep. Batch normalization normalizes the parameters at each input so the training becomes less dependent on the intialization."
      ]
    },
    {
      "cell_type": "markdown",
      "metadata": {
        "id": "l428K7CT-9mp"
      },
      "source": [
        "**<font color='red'> ---------------------------------------------------------------------- ANSWER (END) ----------------------------------------------------------------------\n",
        "</font>**"
      ]
    },
    {
      "cell_type": "markdown",
      "metadata": {
        "id": "GkrAaQgIBnQt"
      },
      "source": [
        "### Interactions: Batch Norm and Residual Connections\n",
        "\n",
        "Lastly, implement and train a CNN with residual connections but without batch normalization layers -- the goal here is to check how residuals interact with normalization.\n",
        "\n",
        "The model below should be exactly like ResNet, except that it should not have batch norm layers."
      ]
    },
    {
      "cell_type": "code",
      "execution_count": null,
      "metadata": {
        "id": "eK05o-N4B3kG"
      },
      "outputs": [],
      "source": [
        "class ResNet_noBN(nn.Module):\n",
        "    def __init__(self, k):\n",
        "        super(ResNet_noBN, self).__init__()\n",
        "\n",
        "        # write code here to instantiate layers\n",
        "        # for example, self.conv = nn.Conv2d(1, 4, 3, 1, 1)\n",
        "        # creates a conv layer with 1 input channel, 4 output\n",
        "        # channels, a 3x3 kernel, and stride=padding=1\n",
        "        self.k = k\n",
        "        self.layperstage= k // 3\n",
        "        # Initialize module list\n",
        "        self.translayer = nn.ModuleList()\n",
        "        self.layer = nn.ModuleList()\n",
        "        input_c = 1\n",
        "        for i in range(3):\n",
        "          output_c = 4 * pow(2, i)\n",
        "          self.translayer.append(nn.Conv2d(input_c, output_c, 3 , 1, 1))\n",
        "          self.layer.append(nn.Conv2d(output_c, output_c, 3, 1, 1))\n",
        "          input_c=output_c\n",
        "        \n",
        "        self.act=nn.ELU()\n",
        "        self.avgpool = nn.AvgPool2d(2,2)\n",
        "        self.flatten = nn.Flatten()\n",
        "        self.linear = nn.Linear(144, 10)\n",
        "        for m in self.modules():\n",
        "            if isinstance(m, nn.Conv2d):\n",
        "                # insert code to compute sigma\n",
        "                sigma = math.sqrt(1 / m.in_channels * 9)\n",
        "                m.weight.data.normal_(0, sigma)\n",
        "                m.bias.data.zero_()\n",
        "        for m in self.modules():\n",
        "            if isinstance(m, nn.Conv2d):\n",
        "                # insert code to compute sigma\n",
        "                sigma = math.sqrt(1 / m.in_channels * 9)\n",
        "                m.weight.data.normal_(0, sigma)\n",
        "                m.bias.data.zero_()\n",
        "        \n",
        "    def forward(self, input):\n",
        "\n",
        "        # write code here to define how the output u is computed\n",
        "        # from the input and the model's layers\n",
        "        # for example, u = self.conv(input) defines u\n",
        "        # to be simply the output of self.conv given 'input'\n",
        "        u = input\n",
        "        for i in range(3):\n",
        "          for j in range(self.layperstage):\n",
        "            x = u\n",
        "            if j ==0:\n",
        "              u = self.translayer[i](u)\n",
        "              u = self.act(u)\n",
        "            else:\n",
        "              u = self.layer[i](u)\n",
        "              u = self.act(u) + x\n",
        "          u = self.avgpool(u)\n",
        "        u = self.flatten(u)\n",
        "        u = self.linear(u)\n",
        "        return u"
      ]
    },
    {
      "cell_type": "markdown",
      "metadata": {
        "id": "PQLzjaz0CJFk"
      },
      "source": [
        "Repeat the procedure of finding the maximum number of layers such that the network is still trainable, this time with ResNet_noBN."
      ]
    },
    {
      "cell_type": "code",
      "execution_count": null,
      "metadata": {
        "colab": {
          "base_uri": "https://localhost:8080/"
        },
        "id": "8_edbTtyCODr",
        "outputId": "a611eac1-2edc-440f-c7da-3975442a25de"
      },
      "outputs": [
        {
          "name": "stdout",
          "output_type": "stream",
          "text": [
            "\n",
            "Training ResNet w/o BN with 6 layers\n",
            "Epoch 000/003, Train Error 90.15% || Test Error 90.20%\n",
            "Epoch 001/003, Train Error 90.13% || Test Error 90.20%\n",
            "Epoch 002/003, Train Error 90.13% || Test Error 90.20%\n",
            "\n",
            "Training ResNet w/o BN with 3 layers\n",
            "Epoch 000/003, Train Error 40.14% || Test Error 13.52%\n",
            "Epoch 001/003, Train Error 11.90% || Test Error 10.57%\n",
            "Epoch 002/003, Train Error 8.91% || Test Error 6.99%\n"
          ]
        }
      ],
      "source": [
        "k_vals= [6, 3]\n",
        "lr = 0.01\n",
        "\n",
        "for k in k_vals:\n",
        "  print(\"\\nTraining ResNet w/o BN with {} layers\".format(k))\n",
        "  model = ResNet_noBN(k).cuda()\n",
        "  optimizer = torch.optim.SGD(model.parameters(), lr=lr, momentum=0.9)\n",
        "  train_errs, test_errs = train(3, model, criterion, optimizer, train_loader, test_loader)"
      ]
    },
    {
      "cell_type": "markdown",
      "metadata": {
        "id": "EV_vayTUCMJc"
      },
      "source": [
        "**<font color='blue'>\n",
        "    Compare ResNet and ResNet_noBN in terms of how deep each could be while being trainable, and discuss your thoughts one how batch norm interacts with residual connections.\n",
        "</font>**\n",
        "\n",
        "**<font color='red'> --------------------------------------------------------------------- ANSWER (BEGIN) ---------------------------------------------------------------------\n",
        "</font>**"
      ]
    },
    {
      "cell_type": "markdown",
      "metadata": {
        "id": "a84vx20jL3RW"
      },
      "source": [
        "Resnet with no Batch normalization made the network untrainable for more than 3 layers, where as adding the batch normalization enables training for up to ~27 layers. Batch normalization allows resnets to be trainable for deeper networks because it prevents internal covariate shift which can cause it to be hard to train\n"
      ]
    },
    {
      "cell_type": "markdown",
      "metadata": {
        "id": "zdqTHhOJCPVu"
      },
      "source": [
        "**<font color='red'> ---------------------------------------------------------------------- ANSWER (END) ----------------------------------------------------------------------\n",
        "</font>**"
      ]
    },
    {
      "cell_type": "markdown",
      "metadata": {
        "id": "mjZF-f5PCgZ9"
      },
      "source": [
        "### (Optional) Multiple Loss Heads\n",
        "\n",
        "In this optional section, your goal is to incorporate the idea of having multiple loss heads throughout the network, distributed across its depth.\n",
        "\n",
        "For the CNNelu_multihead model below, you should take the CNNelu model that you implemented previously and add two additional classification heads, connected to the outputs of stages 1 and 2.\n",
        "\n",
        "More specifically, the outputs of stages 1 and 2, with shapes 4x14x14 and 8x7x7, should be connected to new fully-connected layers that map them to a 10-dimensional vector (logits for the 10 MNIST classes). The network should output three logit vectors (the original one at the end of the network plus the two new ones) instead of just one, and the loss should be computed as the average of the cross entropies between the true target and each of the three predictions.\n",
        "\n",
        "Note that you will likely have to change the implementation of train_epoch() and test() to accomodate the fact that this model will output three logit vectors instead of one."
      ]
    },
    {
      "cell_type": "code",
      "execution_count": null,
      "metadata": {
        "id": "Kjq7whPVDR--"
      },
      "outputs": [],
      "source": [
        "class CNNelu_multihead(nn.Module):\n",
        "    def __init__(self, k):\n",
        "        super(CNNelu_multihead, self).__init__()\n",
        "\n",
        "        # write code here to instantiate layers\n",
        "        # for example, self.conv = nn.Conv2d(1, 4, 3, 1, 1)\n",
        "        # creates a conv layer with 1 input channel, 4 output\n",
        "        # channels, a 3x3 kernel, and stride=padding=1\n",
        "\n",
        "        for m in self.modules():\n",
        "            if isinstance(m, nn.Conv2d):\n",
        "                # insert code to compute sigma\n",
        "                sigma = \n",
        "                m.weight.data.normal_(0, sigma)\n",
        "                m.bias.data.zero_()\n",
        "        \n",
        "    def forward(self, input):\n",
        "        # write code here to define how the output u is computed\n",
        "        # from the input and the model's layers\n",
        "        # for example, u = self.conv(input) defines u\n",
        "        # to be simply the output of self.conv given 'input'\n",
        "\n",
        "        return u1, u2, u3"
      ]
    },
    {
      "cell_type": "markdown",
      "metadata": {
        "id": "SmTspBA6Fnfr"
      },
      "source": [
        "Repeat the procedure of finding the maximum number of layers such that the network is still trainable, this time with CNNelu_multihead."
      ]
    },
    {
      "cell_type": "code",
      "execution_count": null,
      "metadata": {
        "id": "ovdjbI8jJttc"
      },
      "outputs": [],
      "source": [
        "k = \n",
        "lr = \n",
        "\n",
        "print(\"\\nTraining ELU CNN + multiloss with {} layers\".format(k))\n",
        "model = CNNelu_multihead(k).cuda()\n",
        "optimizer = torch.optim.SGD(model.parameters(), lr=lr, momentum=0.9)\n",
        "train_errs, test_errs = train(3, model, criterion, optimizer, train_loader, test_loader)"
      ]
    },
    {
      "cell_type": "markdown",
      "metadata": {
        "id": "v1x_FYzEFsoj"
      },
      "source": [
        "**<font color='blue'>\n",
        "    Did the adoption of multiple loss heads help train deeper models? How did it compare to the adoption of batch normalization, in terms of how deeper each of the two approaches enabled the network to be while staying trainable?\n",
        "</font>**\n",
        "\n",
        "**<font color='red'> --------------------------------------------------------------------- ANSWER (BEGIN) ---------------------------------------------------------------------\n",
        "</font>**"
      ]
    },
    {
      "cell_type": "markdown",
      "metadata": {
        "id": "djfPeR3xFt9U"
      },
      "source": [
        "**<font color='red'> ---------------------------------------------------------------------- ANSWER (END) ----------------------------------------------------------------------\n",
        "</font>**"
      ]
    }
  ],
  "metadata": {
    "accelerator": "GPU",
    "anaconda-cloud": {},
    "colab": {
      "collapsed_sections": [],
      "provenance": [],
      "include_colab_link": true
    },
    "kernelspec": {
      "display_name": "Python 3 (ipykernel)",
      "language": "python",
      "name": "python3"
    },
    "language_info": {
      "codemirror_mode": {
        "name": "ipython",
        "version": 3
      },
      "file_extension": ".py",
      "mimetype": "text/x-python",
      "name": "python",
      "nbconvert_exporter": "python",
      "pygments_lexer": "ipython3",
      "version": "3.10.6"
    },
    "widgets": {
      "application/vnd.jupyter.widget-state+json": {
        "0440f3cf919c438d84b1e22675c32154": {
          "model_module": "@jupyter-widgets/controls",
          "model_module_version": "1.5.0",
          "model_name": "HTMLModel",
          "state": {
            "_dom_classes": [],
            "_model_module": "@jupyter-widgets/controls",
            "_model_module_version": "1.5.0",
            "_model_name": "HTMLModel",
            "_view_count": null,
            "_view_module": "@jupyter-widgets/controls",
            "_view_module_version": "1.5.0",
            "_view_name": "HTMLView",
            "description": "",
            "description_tooltip": null,
            "layout": "IPY_MODEL_5968bd5d9eef4725adc542335f8e769b",
            "placeholder": "​",
            "style": "IPY_MODEL_85fbcd3fdf1348ecbf919e165f743553",
            "value": " 9912422/9912422 [00:00&lt;00:00, 18345985.91it/s]"
          }
        },
        "0eb24715f0a749838b32889ff0127599": {
          "model_module": "@jupyter-widgets/base",
          "model_module_version": "1.2.0",
          "model_name": "LayoutModel",
          "state": {
            "_model_module": "@jupyter-widgets/base",
            "_model_module_version": "1.2.0",
            "_model_name": "LayoutModel",
            "_view_count": null,
            "_view_module": "@jupyter-widgets/base",
            "_view_module_version": "1.2.0",
            "_view_name": "LayoutView",
            "align_content": null,
            "align_items": null,
            "align_self": null,
            "border": null,
            "bottom": null,
            "display": null,
            "flex": null,
            "flex_flow": null,
            "grid_area": null,
            "grid_auto_columns": null,
            "grid_auto_flow": null,
            "grid_auto_rows": null,
            "grid_column": null,
            "grid_gap": null,
            "grid_row": null,
            "grid_template_areas": null,
            "grid_template_columns": null,
            "grid_template_rows": null,
            "height": null,
            "justify_content": null,
            "justify_items": null,
            "left": null,
            "margin": null,
            "max_height": null,
            "max_width": null,
            "min_height": null,
            "min_width": null,
            "object_fit": null,
            "object_position": null,
            "order": null,
            "overflow": null,
            "overflow_x": null,
            "overflow_y": null,
            "padding": null,
            "right": null,
            "top": null,
            "visibility": null,
            "width": null
          }
        },
        "0fc5f64c3bf74064bf8523db09050d9b": {
          "model_module": "@jupyter-widgets/base",
          "model_module_version": "1.2.0",
          "model_name": "LayoutModel",
          "state": {
            "_model_module": "@jupyter-widgets/base",
            "_model_module_version": "1.2.0",
            "_model_name": "LayoutModel",
            "_view_count": null,
            "_view_module": "@jupyter-widgets/base",
            "_view_module_version": "1.2.0",
            "_view_name": "LayoutView",
            "align_content": null,
            "align_items": null,
            "align_self": null,
            "border": null,
            "bottom": null,
            "display": null,
            "flex": null,
            "flex_flow": null,
            "grid_area": null,
            "grid_auto_columns": null,
            "grid_auto_flow": null,
            "grid_auto_rows": null,
            "grid_column": null,
            "grid_gap": null,
            "grid_row": null,
            "grid_template_areas": null,
            "grid_template_columns": null,
            "grid_template_rows": null,
            "height": null,
            "justify_content": null,
            "justify_items": null,
            "left": null,
            "margin": null,
            "max_height": null,
            "max_width": null,
            "min_height": null,
            "min_width": null,
            "object_fit": null,
            "object_position": null,
            "order": null,
            "overflow": null,
            "overflow_x": null,
            "overflow_y": null,
            "padding": null,
            "right": null,
            "top": null,
            "visibility": null,
            "width": null
          }
        },
        "19a356c32b1b4f75b9343c56273492ce": {
          "model_module": "@jupyter-widgets/controls",
          "model_module_version": "1.5.0",
          "model_name": "DescriptionStyleModel",
          "state": {
            "_model_module": "@jupyter-widgets/controls",
            "_model_module_version": "1.5.0",
            "_model_name": "DescriptionStyleModel",
            "_view_count": null,
            "_view_module": "@jupyter-widgets/base",
            "_view_module_version": "1.2.0",
            "_view_name": "StyleView",
            "description_width": ""
          }
        },
        "1ba3925758814423957696eddd1b3aa9": {
          "model_module": "@jupyter-widgets/controls",
          "model_module_version": "1.5.0",
          "model_name": "HBoxModel",
          "state": {
            "_dom_classes": [],
            "_model_module": "@jupyter-widgets/controls",
            "_model_module_version": "1.5.0",
            "_model_name": "HBoxModel",
            "_view_count": null,
            "_view_module": "@jupyter-widgets/controls",
            "_view_module_version": "1.5.0",
            "_view_name": "HBoxView",
            "box_style": "",
            "children": [
              "IPY_MODEL_527fd51bb8424f6f89f788281913f6ac",
              "IPY_MODEL_78c6ef853c8a47d1bbef518046a2de2a",
              "IPY_MODEL_dcb0b6404b674edaa110a9c7d1b8cab6"
            ],
            "layout": "IPY_MODEL_467dced5d6f44d1ab550563657ffa82f"
          }
        },
        "235bb3e0536042449074549dbb473e7c": {
          "model_module": "@jupyter-widgets/base",
          "model_module_version": "1.2.0",
          "model_name": "LayoutModel",
          "state": {
            "_model_module": "@jupyter-widgets/base",
            "_model_module_version": "1.2.0",
            "_model_name": "LayoutModel",
            "_view_count": null,
            "_view_module": "@jupyter-widgets/base",
            "_view_module_version": "1.2.0",
            "_view_name": "LayoutView",
            "align_content": null,
            "align_items": null,
            "align_self": null,
            "border": null,
            "bottom": null,
            "display": null,
            "flex": null,
            "flex_flow": null,
            "grid_area": null,
            "grid_auto_columns": null,
            "grid_auto_flow": null,
            "grid_auto_rows": null,
            "grid_column": null,
            "grid_gap": null,
            "grid_row": null,
            "grid_template_areas": null,
            "grid_template_columns": null,
            "grid_template_rows": null,
            "height": null,
            "justify_content": null,
            "justify_items": null,
            "left": null,
            "margin": null,
            "max_height": null,
            "max_width": null,
            "min_height": null,
            "min_width": null,
            "object_fit": null,
            "object_position": null,
            "order": null,
            "overflow": null,
            "overflow_x": null,
            "overflow_y": null,
            "padding": null,
            "right": null,
            "top": null,
            "visibility": null,
            "width": null
          }
        },
        "2afc9d74de2e4829a86afcc6104db7f0": {
          "model_module": "@jupyter-widgets/base",
          "model_module_version": "1.2.0",
          "model_name": "LayoutModel",
          "state": {
            "_model_module": "@jupyter-widgets/base",
            "_model_module_version": "1.2.0",
            "_model_name": "LayoutModel",
            "_view_count": null,
            "_view_module": "@jupyter-widgets/base",
            "_view_module_version": "1.2.0",
            "_view_name": "LayoutView",
            "align_content": null,
            "align_items": null,
            "align_self": null,
            "border": null,
            "bottom": null,
            "display": null,
            "flex": null,
            "flex_flow": null,
            "grid_area": null,
            "grid_auto_columns": null,
            "grid_auto_flow": null,
            "grid_auto_rows": null,
            "grid_column": null,
            "grid_gap": null,
            "grid_row": null,
            "grid_template_areas": null,
            "grid_template_columns": null,
            "grid_template_rows": null,
            "height": null,
            "justify_content": null,
            "justify_items": null,
            "left": null,
            "margin": null,
            "max_height": null,
            "max_width": null,
            "min_height": null,
            "min_width": null,
            "object_fit": null,
            "object_position": null,
            "order": null,
            "overflow": null,
            "overflow_x": null,
            "overflow_y": null,
            "padding": null,
            "right": null,
            "top": null,
            "visibility": null,
            "width": null
          }
        },
        "378cf0d1cf9e472790a4256710cc945e": {
          "model_module": "@jupyter-widgets/controls",
          "model_module_version": "1.5.0",
          "model_name": "HTMLModel",
          "state": {
            "_dom_classes": [],
            "_model_module": "@jupyter-widgets/controls",
            "_model_module_version": "1.5.0",
            "_model_name": "HTMLModel",
            "_view_count": null,
            "_view_module": "@jupyter-widgets/controls",
            "_view_module_version": "1.5.0",
            "_view_name": "HTMLView",
            "description": "",
            "description_tooltip": null,
            "layout": "IPY_MODEL_55a2ac4620a64242a40afef7cb4c936d",
            "placeholder": "​",
            "style": "IPY_MODEL_19a356c32b1b4f75b9343c56273492ce",
            "value": "100%"
          }
        },
        "38bfbfb1c8e9436eb1c01b8b39652844": {
          "model_module": "@jupyter-widgets/controls",
          "model_module_version": "1.5.0",
          "model_name": "HBoxModel",
          "state": {
            "_dom_classes": [],
            "_model_module": "@jupyter-widgets/controls",
            "_model_module_version": "1.5.0",
            "_model_name": "HBoxModel",
            "_view_count": null,
            "_view_module": "@jupyter-widgets/controls",
            "_view_module_version": "1.5.0",
            "_view_name": "HBoxView",
            "box_style": "",
            "children": [
              "IPY_MODEL_378cf0d1cf9e472790a4256710cc945e",
              "IPY_MODEL_9a29f999c99641afb42a882be872ca50",
              "IPY_MODEL_c80bfa69dca74b59a946dd91e2c495bf"
            ],
            "layout": "IPY_MODEL_235bb3e0536042449074549dbb473e7c"
          }
        },
        "3db229d160824554b7920246ef945ac3": {
          "model_module": "@jupyter-widgets/base",
          "model_module_version": "1.2.0",
          "model_name": "LayoutModel",
          "state": {
            "_model_module": "@jupyter-widgets/base",
            "_model_module_version": "1.2.0",
            "_model_name": "LayoutModel",
            "_view_count": null,
            "_view_module": "@jupyter-widgets/base",
            "_view_module_version": "1.2.0",
            "_view_name": "LayoutView",
            "align_content": null,
            "align_items": null,
            "align_self": null,
            "border": null,
            "bottom": null,
            "display": null,
            "flex": null,
            "flex_flow": null,
            "grid_area": null,
            "grid_auto_columns": null,
            "grid_auto_flow": null,
            "grid_auto_rows": null,
            "grid_column": null,
            "grid_gap": null,
            "grid_row": null,
            "grid_template_areas": null,
            "grid_template_columns": null,
            "grid_template_rows": null,
            "height": null,
            "justify_content": null,
            "justify_items": null,
            "left": null,
            "margin": null,
            "max_height": null,
            "max_width": null,
            "min_height": null,
            "min_width": null,
            "object_fit": null,
            "object_position": null,
            "order": null,
            "overflow": null,
            "overflow_x": null,
            "overflow_y": null,
            "padding": null,
            "right": null,
            "top": null,
            "visibility": null,
            "width": null
          }
        },
        "41fd2902b403451aa7c95bcd0218fadf": {
          "model_module": "@jupyter-widgets/base",
          "model_module_version": "1.2.0",
          "model_name": "LayoutModel",
          "state": {
            "_model_module": "@jupyter-widgets/base",
            "_model_module_version": "1.2.0",
            "_model_name": "LayoutModel",
            "_view_count": null,
            "_view_module": "@jupyter-widgets/base",
            "_view_module_version": "1.2.0",
            "_view_name": "LayoutView",
            "align_content": null,
            "align_items": null,
            "align_self": null,
            "border": null,
            "bottom": null,
            "display": null,
            "flex": null,
            "flex_flow": null,
            "grid_area": null,
            "grid_auto_columns": null,
            "grid_auto_flow": null,
            "grid_auto_rows": null,
            "grid_column": null,
            "grid_gap": null,
            "grid_row": null,
            "grid_template_areas": null,
            "grid_template_columns": null,
            "grid_template_rows": null,
            "height": null,
            "justify_content": null,
            "justify_items": null,
            "left": null,
            "margin": null,
            "max_height": null,
            "max_width": null,
            "min_height": null,
            "min_width": null,
            "object_fit": null,
            "object_position": null,
            "order": null,
            "overflow": null,
            "overflow_x": null,
            "overflow_y": null,
            "padding": null,
            "right": null,
            "top": null,
            "visibility": null,
            "width": null
          }
        },
        "467dced5d6f44d1ab550563657ffa82f": {
          "model_module": "@jupyter-widgets/base",
          "model_module_version": "1.2.0",
          "model_name": "LayoutModel",
          "state": {
            "_model_module": "@jupyter-widgets/base",
            "_model_module_version": "1.2.0",
            "_model_name": "LayoutModel",
            "_view_count": null,
            "_view_module": "@jupyter-widgets/base",
            "_view_module_version": "1.2.0",
            "_view_name": "LayoutView",
            "align_content": null,
            "align_items": null,
            "align_self": null,
            "border": null,
            "bottom": null,
            "display": null,
            "flex": null,
            "flex_flow": null,
            "grid_area": null,
            "grid_auto_columns": null,
            "grid_auto_flow": null,
            "grid_auto_rows": null,
            "grid_column": null,
            "grid_gap": null,
            "grid_row": null,
            "grid_template_areas": null,
            "grid_template_columns": null,
            "grid_template_rows": null,
            "height": null,
            "justify_content": null,
            "justify_items": null,
            "left": null,
            "margin": null,
            "max_height": null,
            "max_width": null,
            "min_height": null,
            "min_width": null,
            "object_fit": null,
            "object_position": null,
            "order": null,
            "overflow": null,
            "overflow_x": null,
            "overflow_y": null,
            "padding": null,
            "right": null,
            "top": null,
            "visibility": null,
            "width": null
          }
        },
        "4cf5c7c840c64cdd9c9eb4dd8ce3f425": {
          "model_module": "@jupyter-widgets/controls",
          "model_module_version": "1.5.0",
          "model_name": "ProgressStyleModel",
          "state": {
            "_model_module": "@jupyter-widgets/controls",
            "_model_module_version": "1.5.0",
            "_model_name": "ProgressStyleModel",
            "_view_count": null,
            "_view_module": "@jupyter-widgets/base",
            "_view_module_version": "1.2.0",
            "_view_name": "StyleView",
            "bar_color": null,
            "description_width": ""
          }
        },
        "4df4bb7462224911bc5a99f6cb3ce191": {
          "model_module": "@jupyter-widgets/base",
          "model_module_version": "1.2.0",
          "model_name": "LayoutModel",
          "state": {
            "_model_module": "@jupyter-widgets/base",
            "_model_module_version": "1.2.0",
            "_model_name": "LayoutModel",
            "_view_count": null,
            "_view_module": "@jupyter-widgets/base",
            "_view_module_version": "1.2.0",
            "_view_name": "LayoutView",
            "align_content": null,
            "align_items": null,
            "align_self": null,
            "border": null,
            "bottom": null,
            "display": null,
            "flex": null,
            "flex_flow": null,
            "grid_area": null,
            "grid_auto_columns": null,
            "grid_auto_flow": null,
            "grid_auto_rows": null,
            "grid_column": null,
            "grid_gap": null,
            "grid_row": null,
            "grid_template_areas": null,
            "grid_template_columns": null,
            "grid_template_rows": null,
            "height": null,
            "justify_content": null,
            "justify_items": null,
            "left": null,
            "margin": null,
            "max_height": null,
            "max_width": null,
            "min_height": null,
            "min_width": null,
            "object_fit": null,
            "object_position": null,
            "order": null,
            "overflow": null,
            "overflow_x": null,
            "overflow_y": null,
            "padding": null,
            "right": null,
            "top": null,
            "visibility": null,
            "width": null
          }
        },
        "4fc322303e18442daa0cbbc8e5336909": {
          "model_module": "@jupyter-widgets/controls",
          "model_module_version": "1.5.0",
          "model_name": "DescriptionStyleModel",
          "state": {
            "_model_module": "@jupyter-widgets/controls",
            "_model_module_version": "1.5.0",
            "_model_name": "DescriptionStyleModel",
            "_view_count": null,
            "_view_module": "@jupyter-widgets/base",
            "_view_module_version": "1.2.0",
            "_view_name": "StyleView",
            "description_width": ""
          }
        },
        "527fd51bb8424f6f89f788281913f6ac": {
          "model_module": "@jupyter-widgets/controls",
          "model_module_version": "1.5.0",
          "model_name": "HTMLModel",
          "state": {
            "_dom_classes": [],
            "_model_module": "@jupyter-widgets/controls",
            "_model_module_version": "1.5.0",
            "_model_name": "HTMLModel",
            "_view_count": null,
            "_view_module": "@jupyter-widgets/controls",
            "_view_module_version": "1.5.0",
            "_view_name": "HTMLView",
            "description": "",
            "description_tooltip": null,
            "layout": "IPY_MODEL_3db229d160824554b7920246ef945ac3",
            "placeholder": "​",
            "style": "IPY_MODEL_7d206b094ee24469bf7e76c46d2502f7",
            "value": "100%"
          }
        },
        "55a2ac4620a64242a40afef7cb4c936d": {
          "model_module": "@jupyter-widgets/base",
          "model_module_version": "1.2.0",
          "model_name": "LayoutModel",
          "state": {
            "_model_module": "@jupyter-widgets/base",
            "_model_module_version": "1.2.0",
            "_model_name": "LayoutModel",
            "_view_count": null,
            "_view_module": "@jupyter-widgets/base",
            "_view_module_version": "1.2.0",
            "_view_name": "LayoutView",
            "align_content": null,
            "align_items": null,
            "align_self": null,
            "border": null,
            "bottom": null,
            "display": null,
            "flex": null,
            "flex_flow": null,
            "grid_area": null,
            "grid_auto_columns": null,
            "grid_auto_flow": null,
            "grid_auto_rows": null,
            "grid_column": null,
            "grid_gap": null,
            "grid_row": null,
            "grid_template_areas": null,
            "grid_template_columns": null,
            "grid_template_rows": null,
            "height": null,
            "justify_content": null,
            "justify_items": null,
            "left": null,
            "margin": null,
            "max_height": null,
            "max_width": null,
            "min_height": null,
            "min_width": null,
            "object_fit": null,
            "object_position": null,
            "order": null,
            "overflow": null,
            "overflow_x": null,
            "overflow_y": null,
            "padding": null,
            "right": null,
            "top": null,
            "visibility": null,
            "width": null
          }
        },
        "55df15980f844a8cb89f8a59a720b6cd": {
          "model_module": "@jupyter-widgets/base",
          "model_module_version": "1.2.0",
          "model_name": "LayoutModel",
          "state": {
            "_model_module": "@jupyter-widgets/base",
            "_model_module_version": "1.2.0",
            "_model_name": "LayoutModel",
            "_view_count": null,
            "_view_module": "@jupyter-widgets/base",
            "_view_module_version": "1.2.0",
            "_view_name": "LayoutView",
            "align_content": null,
            "align_items": null,
            "align_self": null,
            "border": null,
            "bottom": null,
            "display": null,
            "flex": null,
            "flex_flow": null,
            "grid_area": null,
            "grid_auto_columns": null,
            "grid_auto_flow": null,
            "grid_auto_rows": null,
            "grid_column": null,
            "grid_gap": null,
            "grid_row": null,
            "grid_template_areas": null,
            "grid_template_columns": null,
            "grid_template_rows": null,
            "height": null,
            "justify_content": null,
            "justify_items": null,
            "left": null,
            "margin": null,
            "max_height": null,
            "max_width": null,
            "min_height": null,
            "min_width": null,
            "object_fit": null,
            "object_position": null,
            "order": null,
            "overflow": null,
            "overflow_x": null,
            "overflow_y": null,
            "padding": null,
            "right": null,
            "top": null,
            "visibility": null,
            "width": null
          }
        },
        "5968bd5d9eef4725adc542335f8e769b": {
          "model_module": "@jupyter-widgets/base",
          "model_module_version": "1.2.0",
          "model_name": "LayoutModel",
          "state": {
            "_model_module": "@jupyter-widgets/base",
            "_model_module_version": "1.2.0",
            "_model_name": "LayoutModel",
            "_view_count": null,
            "_view_module": "@jupyter-widgets/base",
            "_view_module_version": "1.2.0",
            "_view_name": "LayoutView",
            "align_content": null,
            "align_items": null,
            "align_self": null,
            "border": null,
            "bottom": null,
            "display": null,
            "flex": null,
            "flex_flow": null,
            "grid_area": null,
            "grid_auto_columns": null,
            "grid_auto_flow": null,
            "grid_auto_rows": null,
            "grid_column": null,
            "grid_gap": null,
            "grid_row": null,
            "grid_template_areas": null,
            "grid_template_columns": null,
            "grid_template_rows": null,
            "height": null,
            "justify_content": null,
            "justify_items": null,
            "left": null,
            "margin": null,
            "max_height": null,
            "max_width": null,
            "min_height": null,
            "min_width": null,
            "object_fit": null,
            "object_position": null,
            "order": null,
            "overflow": null,
            "overflow_x": null,
            "overflow_y": null,
            "padding": null,
            "right": null,
            "top": null,
            "visibility": null,
            "width": null
          }
        },
        "6d3176ada3294078b24c456daf77bc56": {
          "model_module": "@jupyter-widgets/controls",
          "model_module_version": "1.5.0",
          "model_name": "HBoxModel",
          "state": {
            "_dom_classes": [],
            "_model_module": "@jupyter-widgets/controls",
            "_model_module_version": "1.5.0",
            "_model_name": "HBoxModel",
            "_view_count": null,
            "_view_module": "@jupyter-widgets/controls",
            "_view_module_version": "1.5.0",
            "_view_name": "HBoxView",
            "box_style": "",
            "children": [
              "IPY_MODEL_e4bd3b77bab44d4aa06abbfaf107a03a",
              "IPY_MODEL_87f6875d5d804db68524b19b3a074028",
              "IPY_MODEL_e4618b192ef344bc873b9662e73fef06"
            ],
            "layout": "IPY_MODEL_ae389f11eca84ab4a24ff79a089da52a"
          }
        },
        "78c6ef853c8a47d1bbef518046a2de2a": {
          "model_module": "@jupyter-widgets/controls",
          "model_module_version": "1.5.0",
          "model_name": "FloatProgressModel",
          "state": {
            "_dom_classes": [],
            "_model_module": "@jupyter-widgets/controls",
            "_model_module_version": "1.5.0",
            "_model_name": "FloatProgressModel",
            "_view_count": null,
            "_view_module": "@jupyter-widgets/controls",
            "_view_module_version": "1.5.0",
            "_view_name": "ProgressView",
            "bar_style": "success",
            "description": "",
            "description_tooltip": null,
            "layout": "IPY_MODEL_0fc5f64c3bf74064bf8523db09050d9b",
            "max": 4542,
            "min": 0,
            "orientation": "horizontal",
            "style": "IPY_MODEL_4cf5c7c840c64cdd9c9eb4dd8ce3f425",
            "value": 4542
          }
        },
        "7d206b094ee24469bf7e76c46d2502f7": {
          "model_module": "@jupyter-widgets/controls",
          "model_module_version": "1.5.0",
          "model_name": "DescriptionStyleModel",
          "state": {
            "_model_module": "@jupyter-widgets/controls",
            "_model_module_version": "1.5.0",
            "_model_name": "DescriptionStyleModel",
            "_view_count": null,
            "_view_module": "@jupyter-widgets/base",
            "_view_module_version": "1.2.0",
            "_view_name": "StyleView",
            "description_width": ""
          }
        },
        "7edd9b17ca814ba180e46ffd4ccaa606": {
          "model_module": "@jupyter-widgets/controls",
          "model_module_version": "1.5.0",
          "model_name": "DescriptionStyleModel",
          "state": {
            "_model_module": "@jupyter-widgets/controls",
            "_model_module_version": "1.5.0",
            "_model_name": "DescriptionStyleModel",
            "_view_count": null,
            "_view_module": "@jupyter-widgets/base",
            "_view_module_version": "1.2.0",
            "_view_name": "StyleView",
            "description_width": ""
          }
        },
        "85fbcd3fdf1348ecbf919e165f743553": {
          "model_module": "@jupyter-widgets/controls",
          "model_module_version": "1.5.0",
          "model_name": "DescriptionStyleModel",
          "state": {
            "_model_module": "@jupyter-widgets/controls",
            "_model_module_version": "1.5.0",
            "_model_name": "DescriptionStyleModel",
            "_view_count": null,
            "_view_module": "@jupyter-widgets/base",
            "_view_module_version": "1.2.0",
            "_view_name": "StyleView",
            "description_width": ""
          }
        },
        "87f6875d5d804db68524b19b3a074028": {
          "model_module": "@jupyter-widgets/controls",
          "model_module_version": "1.5.0",
          "model_name": "FloatProgressModel",
          "state": {
            "_dom_classes": [],
            "_model_module": "@jupyter-widgets/controls",
            "_model_module_version": "1.5.0",
            "_model_name": "FloatProgressModel",
            "_view_count": null,
            "_view_module": "@jupyter-widgets/controls",
            "_view_module_version": "1.5.0",
            "_view_name": "ProgressView",
            "bar_style": "success",
            "description": "",
            "description_tooltip": null,
            "layout": "IPY_MODEL_0eb24715f0a749838b32889ff0127599",
            "max": 1648877,
            "min": 0,
            "orientation": "horizontal",
            "style": "IPY_MODEL_b602562acd104b67a58151dfc8643fca",
            "value": 1648877
          }
        },
        "89bb7bbeb64f4a4ca78fd9ac2097b206": {
          "model_module": "@jupyter-widgets/controls",
          "model_module_version": "1.5.0",
          "model_name": "FloatProgressModel",
          "state": {
            "_dom_classes": [],
            "_model_module": "@jupyter-widgets/controls",
            "_model_module_version": "1.5.0",
            "_model_name": "FloatProgressModel",
            "_view_count": null,
            "_view_module": "@jupyter-widgets/controls",
            "_view_module_version": "1.5.0",
            "_view_name": "ProgressView",
            "bar_style": "success",
            "description": "",
            "description_tooltip": null,
            "layout": "IPY_MODEL_41fd2902b403451aa7c95bcd0218fadf",
            "max": 9912422,
            "min": 0,
            "orientation": "horizontal",
            "style": "IPY_MODEL_eec1fee3d3ba41c7b65735b6b1cac1fb",
            "value": 9912422
          }
        },
        "98cb8e0a1ca54e4e9ec8b6903107d463": {
          "model_module": "@jupyter-widgets/controls",
          "model_module_version": "1.5.0",
          "model_name": "ProgressStyleModel",
          "state": {
            "_model_module": "@jupyter-widgets/controls",
            "_model_module_version": "1.5.0",
            "_model_name": "ProgressStyleModel",
            "_view_count": null,
            "_view_module": "@jupyter-widgets/base",
            "_view_module_version": "1.2.0",
            "_view_name": "StyleView",
            "bar_color": null,
            "description_width": ""
          }
        },
        "9a29f999c99641afb42a882be872ca50": {
          "model_module": "@jupyter-widgets/controls",
          "model_module_version": "1.5.0",
          "model_name": "FloatProgressModel",
          "state": {
            "_dom_classes": [],
            "_model_module": "@jupyter-widgets/controls",
            "_model_module_version": "1.5.0",
            "_model_name": "FloatProgressModel",
            "_view_count": null,
            "_view_module": "@jupyter-widgets/controls",
            "_view_module_version": "1.5.0",
            "_view_name": "ProgressView",
            "bar_style": "success",
            "description": "",
            "description_tooltip": null,
            "layout": "IPY_MODEL_f3c36f21a63041c7955555a18e764765",
            "max": 28881,
            "min": 0,
            "orientation": "horizontal",
            "style": "IPY_MODEL_98cb8e0a1ca54e4e9ec8b6903107d463",
            "value": 28881
          }
        },
        "ae389f11eca84ab4a24ff79a089da52a": {
          "model_module": "@jupyter-widgets/base",
          "model_module_version": "1.2.0",
          "model_name": "LayoutModel",
          "state": {
            "_model_module": "@jupyter-widgets/base",
            "_model_module_version": "1.2.0",
            "_model_name": "LayoutModel",
            "_view_count": null,
            "_view_module": "@jupyter-widgets/base",
            "_view_module_version": "1.2.0",
            "_view_name": "LayoutView",
            "align_content": null,
            "align_items": null,
            "align_self": null,
            "border": null,
            "bottom": null,
            "display": null,
            "flex": null,
            "flex_flow": null,
            "grid_area": null,
            "grid_auto_columns": null,
            "grid_auto_flow": null,
            "grid_auto_rows": null,
            "grid_column": null,
            "grid_gap": null,
            "grid_row": null,
            "grid_template_areas": null,
            "grid_template_columns": null,
            "grid_template_rows": null,
            "height": null,
            "justify_content": null,
            "justify_items": null,
            "left": null,
            "margin": null,
            "max_height": null,
            "max_width": null,
            "min_height": null,
            "min_width": null,
            "object_fit": null,
            "object_position": null,
            "order": null,
            "overflow": null,
            "overflow_x": null,
            "overflow_y": null,
            "padding": null,
            "right": null,
            "top": null,
            "visibility": null,
            "width": null
          }
        },
        "b602562acd104b67a58151dfc8643fca": {
          "model_module": "@jupyter-widgets/controls",
          "model_module_version": "1.5.0",
          "model_name": "ProgressStyleModel",
          "state": {
            "_model_module": "@jupyter-widgets/controls",
            "_model_module_version": "1.5.0",
            "_model_name": "ProgressStyleModel",
            "_view_count": null,
            "_view_module": "@jupyter-widgets/base",
            "_view_module_version": "1.2.0",
            "_view_name": "StyleView",
            "bar_color": null,
            "description_width": ""
          }
        },
        "bae6e8fc221f4c44af8f9a26b8b6f9bd": {
          "model_module": "@jupyter-widgets/base",
          "model_module_version": "1.2.0",
          "model_name": "LayoutModel",
          "state": {
            "_model_module": "@jupyter-widgets/base",
            "_model_module_version": "1.2.0",
            "_model_name": "LayoutModel",
            "_view_count": null,
            "_view_module": "@jupyter-widgets/base",
            "_view_module_version": "1.2.0",
            "_view_name": "LayoutView",
            "align_content": null,
            "align_items": null,
            "align_self": null,
            "border": null,
            "bottom": null,
            "display": null,
            "flex": null,
            "flex_flow": null,
            "grid_area": null,
            "grid_auto_columns": null,
            "grid_auto_flow": null,
            "grid_auto_rows": null,
            "grid_column": null,
            "grid_gap": null,
            "grid_row": null,
            "grid_template_areas": null,
            "grid_template_columns": null,
            "grid_template_rows": null,
            "height": null,
            "justify_content": null,
            "justify_items": null,
            "left": null,
            "margin": null,
            "max_height": null,
            "max_width": null,
            "min_height": null,
            "min_width": null,
            "object_fit": null,
            "object_position": null,
            "order": null,
            "overflow": null,
            "overflow_x": null,
            "overflow_y": null,
            "padding": null,
            "right": null,
            "top": null,
            "visibility": null,
            "width": null
          }
        },
        "bd69c20c7a6d444ca53e457f4678f003": {
          "model_module": "@jupyter-widgets/controls",
          "model_module_version": "1.5.0",
          "model_name": "DescriptionStyleModel",
          "state": {
            "_model_module": "@jupyter-widgets/controls",
            "_model_module_version": "1.5.0",
            "_model_name": "DescriptionStyleModel",
            "_view_count": null,
            "_view_module": "@jupyter-widgets/base",
            "_view_module_version": "1.2.0",
            "_view_name": "StyleView",
            "description_width": ""
          }
        },
        "bf74124717364d3984aae72c23812509": {
          "model_module": "@jupyter-widgets/controls",
          "model_module_version": "1.5.0",
          "model_name": "DescriptionStyleModel",
          "state": {
            "_model_module": "@jupyter-widgets/controls",
            "_model_module_version": "1.5.0",
            "_model_name": "DescriptionStyleModel",
            "_view_count": null,
            "_view_module": "@jupyter-widgets/base",
            "_view_module_version": "1.2.0",
            "_view_name": "StyleView",
            "description_width": ""
          }
        },
        "c244451232c64f49a8aef05cc5064461": {
          "model_module": "@jupyter-widgets/base",
          "model_module_version": "1.2.0",
          "model_name": "LayoutModel",
          "state": {
            "_model_module": "@jupyter-widgets/base",
            "_model_module_version": "1.2.0",
            "_model_name": "LayoutModel",
            "_view_count": null,
            "_view_module": "@jupyter-widgets/base",
            "_view_module_version": "1.2.0",
            "_view_name": "LayoutView",
            "align_content": null,
            "align_items": null,
            "align_self": null,
            "border": null,
            "bottom": null,
            "display": null,
            "flex": null,
            "flex_flow": null,
            "grid_area": null,
            "grid_auto_columns": null,
            "grid_auto_flow": null,
            "grid_auto_rows": null,
            "grid_column": null,
            "grid_gap": null,
            "grid_row": null,
            "grid_template_areas": null,
            "grid_template_columns": null,
            "grid_template_rows": null,
            "height": null,
            "justify_content": null,
            "justify_items": null,
            "left": null,
            "margin": null,
            "max_height": null,
            "max_width": null,
            "min_height": null,
            "min_width": null,
            "object_fit": null,
            "object_position": null,
            "order": null,
            "overflow": null,
            "overflow_x": null,
            "overflow_y": null,
            "padding": null,
            "right": null,
            "top": null,
            "visibility": null,
            "width": null
          }
        },
        "c80bfa69dca74b59a946dd91e2c495bf": {
          "model_module": "@jupyter-widgets/controls",
          "model_module_version": "1.5.0",
          "model_name": "HTMLModel",
          "state": {
            "_dom_classes": [],
            "_model_module": "@jupyter-widgets/controls",
            "_model_module_version": "1.5.0",
            "_model_name": "HTMLModel",
            "_view_count": null,
            "_view_module": "@jupyter-widgets/controls",
            "_view_module_version": "1.5.0",
            "_view_name": "HTMLView",
            "description": "",
            "description_tooltip": null,
            "layout": "IPY_MODEL_2afc9d74de2e4829a86afcc6104db7f0",
            "placeholder": "​",
            "style": "IPY_MODEL_d5ba7a60efe24c3088e5ee33c79f53b4",
            "value": " 28881/28881 [00:00&lt;00:00, 959574.25it/s]"
          }
        },
        "d0524cca62f74d9a8e02885cee8ed1f5": {
          "model_module": "@jupyter-widgets/controls",
          "model_module_version": "1.5.0",
          "model_name": "HTMLModel",
          "state": {
            "_dom_classes": [],
            "_model_module": "@jupyter-widgets/controls",
            "_model_module_version": "1.5.0",
            "_model_name": "HTMLModel",
            "_view_count": null,
            "_view_module": "@jupyter-widgets/controls",
            "_view_module_version": "1.5.0",
            "_view_name": "HTMLView",
            "description": "",
            "description_tooltip": null,
            "layout": "IPY_MODEL_c244451232c64f49a8aef05cc5064461",
            "placeholder": "​",
            "style": "IPY_MODEL_7edd9b17ca814ba180e46ffd4ccaa606",
            "value": "100%"
          }
        },
        "d43cd9ed0db54a0ea09cf0913c39fcc9": {
          "model_module": "@jupyter-widgets/controls",
          "model_module_version": "1.5.0",
          "model_name": "HBoxModel",
          "state": {
            "_dom_classes": [],
            "_model_module": "@jupyter-widgets/controls",
            "_model_module_version": "1.5.0",
            "_model_name": "HBoxModel",
            "_view_count": null,
            "_view_module": "@jupyter-widgets/controls",
            "_view_module_version": "1.5.0",
            "_view_name": "HBoxView",
            "box_style": "",
            "children": [
              "IPY_MODEL_d0524cca62f74d9a8e02885cee8ed1f5",
              "IPY_MODEL_89bb7bbeb64f4a4ca78fd9ac2097b206",
              "IPY_MODEL_0440f3cf919c438d84b1e22675c32154"
            ],
            "layout": "IPY_MODEL_55df15980f844a8cb89f8a59a720b6cd"
          }
        },
        "d5ba7a60efe24c3088e5ee33c79f53b4": {
          "model_module": "@jupyter-widgets/controls",
          "model_module_version": "1.5.0",
          "model_name": "DescriptionStyleModel",
          "state": {
            "_model_module": "@jupyter-widgets/controls",
            "_model_module_version": "1.5.0",
            "_model_name": "DescriptionStyleModel",
            "_view_count": null,
            "_view_module": "@jupyter-widgets/base",
            "_view_module_version": "1.2.0",
            "_view_name": "StyleView",
            "description_width": ""
          }
        },
        "dcb0b6404b674edaa110a9c7d1b8cab6": {
          "model_module": "@jupyter-widgets/controls",
          "model_module_version": "1.5.0",
          "model_name": "HTMLModel",
          "state": {
            "_dom_classes": [],
            "_model_module": "@jupyter-widgets/controls",
            "_model_module_version": "1.5.0",
            "_model_name": "HTMLModel",
            "_view_count": null,
            "_view_module": "@jupyter-widgets/controls",
            "_view_module_version": "1.5.0",
            "_view_name": "HTMLView",
            "description": "",
            "description_tooltip": null,
            "layout": "IPY_MODEL_f994b8c06cf846d18e3a040b01728e2d",
            "placeholder": "​",
            "style": "IPY_MODEL_bf74124717364d3984aae72c23812509",
            "value": " 4542/4542 [00:00&lt;00:00, 141616.46it/s]"
          }
        },
        "e4618b192ef344bc873b9662e73fef06": {
          "model_module": "@jupyter-widgets/controls",
          "model_module_version": "1.5.0",
          "model_name": "HTMLModel",
          "state": {
            "_dom_classes": [],
            "_model_module": "@jupyter-widgets/controls",
            "_model_module_version": "1.5.0",
            "_model_name": "HTMLModel",
            "_view_count": null,
            "_view_module": "@jupyter-widgets/controls",
            "_view_module_version": "1.5.0",
            "_view_name": "HTMLView",
            "description": "",
            "description_tooltip": null,
            "layout": "IPY_MODEL_bae6e8fc221f4c44af8f9a26b8b6f9bd",
            "placeholder": "​",
            "style": "IPY_MODEL_4fc322303e18442daa0cbbc8e5336909",
            "value": " 1648877/1648877 [00:00&lt;00:00, 18490798.29it/s]"
          }
        },
        "e4bd3b77bab44d4aa06abbfaf107a03a": {
          "model_module": "@jupyter-widgets/controls",
          "model_module_version": "1.5.0",
          "model_name": "HTMLModel",
          "state": {
            "_dom_classes": [],
            "_model_module": "@jupyter-widgets/controls",
            "_model_module_version": "1.5.0",
            "_model_name": "HTMLModel",
            "_view_count": null,
            "_view_module": "@jupyter-widgets/controls",
            "_view_module_version": "1.5.0",
            "_view_name": "HTMLView",
            "description": "",
            "description_tooltip": null,
            "layout": "IPY_MODEL_4df4bb7462224911bc5a99f6cb3ce191",
            "placeholder": "​",
            "style": "IPY_MODEL_bd69c20c7a6d444ca53e457f4678f003",
            "value": "100%"
          }
        },
        "eec1fee3d3ba41c7b65735b6b1cac1fb": {
          "model_module": "@jupyter-widgets/controls",
          "model_module_version": "1.5.0",
          "model_name": "ProgressStyleModel",
          "state": {
            "_model_module": "@jupyter-widgets/controls",
            "_model_module_version": "1.5.0",
            "_model_name": "ProgressStyleModel",
            "_view_count": null,
            "_view_module": "@jupyter-widgets/base",
            "_view_module_version": "1.2.0",
            "_view_name": "StyleView",
            "bar_color": null,
            "description_width": ""
          }
        },
        "f3c36f21a63041c7955555a18e764765": {
          "model_module": "@jupyter-widgets/base",
          "model_module_version": "1.2.0",
          "model_name": "LayoutModel",
          "state": {
            "_model_module": "@jupyter-widgets/base",
            "_model_module_version": "1.2.0",
            "_model_name": "LayoutModel",
            "_view_count": null,
            "_view_module": "@jupyter-widgets/base",
            "_view_module_version": "1.2.0",
            "_view_name": "LayoutView",
            "align_content": null,
            "align_items": null,
            "align_self": null,
            "border": null,
            "bottom": null,
            "display": null,
            "flex": null,
            "flex_flow": null,
            "grid_area": null,
            "grid_auto_columns": null,
            "grid_auto_flow": null,
            "grid_auto_rows": null,
            "grid_column": null,
            "grid_gap": null,
            "grid_row": null,
            "grid_template_areas": null,
            "grid_template_columns": null,
            "grid_template_rows": null,
            "height": null,
            "justify_content": null,
            "justify_items": null,
            "left": null,
            "margin": null,
            "max_height": null,
            "max_width": null,
            "min_height": null,
            "min_width": null,
            "object_fit": null,
            "object_position": null,
            "order": null,
            "overflow": null,
            "overflow_x": null,
            "overflow_y": null,
            "padding": null,
            "right": null,
            "top": null,
            "visibility": null,
            "width": null
          }
        },
        "f994b8c06cf846d18e3a040b01728e2d": {
          "model_module": "@jupyter-widgets/base",
          "model_module_version": "1.2.0",
          "model_name": "LayoutModel",
          "state": {
            "_model_module": "@jupyter-widgets/base",
            "_model_module_version": "1.2.0",
            "_model_name": "LayoutModel",
            "_view_count": null,
            "_view_module": "@jupyter-widgets/base",
            "_view_module_version": "1.2.0",
            "_view_name": "LayoutView",
            "align_content": null,
            "align_items": null,
            "align_self": null,
            "border": null,
            "bottom": null,
            "display": null,
            "flex": null,
            "flex_flow": null,
            "grid_area": null,
            "grid_auto_columns": null,
            "grid_auto_flow": null,
            "grid_auto_rows": null,
            "grid_column": null,
            "grid_gap": null,
            "grid_row": null,
            "grid_template_areas": null,
            "grid_template_columns": null,
            "grid_template_rows": null,
            "height": null,
            "justify_content": null,
            "justify_items": null,
            "left": null,
            "margin": null,
            "max_height": null,
            "max_width": null,
            "min_height": null,
            "min_width": null,
            "object_fit": null,
            "object_position": null,
            "order": null,
            "overflow": null,
            "overflow_x": null,
            "overflow_y": null,
            "padding": null,
            "right": null,
            "top": null,
            "visibility": null,
            "width": null
          }
        }
      }
    }
  },
  "nbformat": 4,
  "nbformat_minor": 0
}